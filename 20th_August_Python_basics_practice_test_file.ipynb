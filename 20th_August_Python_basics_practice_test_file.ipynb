{
 "cells": [
  {
   "cell_type": "code",
   "execution_count": null,
   "id": "d48def26-86f5-44e1-a42a-b3914d249ad8",
   "metadata": {},
   "outputs": [],
   "source": [
    "#String  Based Questions"
   ]
  },
  {
   "cell_type": "code",
   "execution_count": null,
   "id": "9b1c183c-81d5-44f5-b58f-d29a059f69e3",
   "metadata": {},
   "outputs": [],
   "source": [
    "#Question1"
   ]
  },
  {
   "cell_type": "code",
   "execution_count": 8,
   "id": "d0412931-24d2-476a-9ab9-b1af69838327",
   "metadata": {},
   "outputs": [],
   "source": [
    "s1 = \"pwskills\""
   ]
  },
  {
   "cell_type": "code",
   "execution_count": 9,
   "id": "65a0afc6-ee6c-40f1-a684-0cfbd8aeb52a",
   "metadata": {},
   "outputs": [],
   "source": [
    "s2 = s1[::-1]"
   ]
  },
  {
   "cell_type": "code",
   "execution_count": 10,
   "id": "e6f9d43a-442a-40b7-a937-3a28866bf046",
   "metadata": {},
   "outputs": [
    {
     "data": {
      "text/plain": [
       "'sllikswp'"
      ]
     },
     "execution_count": 10,
     "metadata": {},
     "output_type": "execute_result"
    }
   ],
   "source": [
    "s2"
   ]
  },
  {
   "cell_type": "code",
   "execution_count": 11,
   "id": "e5a662e7-5f35-4a78-bf2e-ef437b043b44",
   "metadata": {},
   "outputs": [],
   "source": [
    "#Question2"
   ]
  },
  {
   "cell_type": "code",
   "execution_count": 1,
   "id": "ea51a8b6-a7ba-45db-9e31-a996caac4cea",
   "metadata": {},
   "outputs": [
    {
     "name": "stdout",
     "output_type": "stream",
     "text": [
      "String is Palindrome\n"
     ]
    }
   ],
   "source": [
    "s1 = \"mam\"\n",
    "s2 = s1[::-1]\n",
    "if s2==s1:\n",
    "    print(\"String is Palindrome\")\n",
    "else:\n",
    "    print(\"String is not Palindrome\")"
   ]
  },
  {
   "cell_type": "code",
   "execution_count": null,
   "id": "1e65d961-66db-4c4b-8f6f-206149efde7a",
   "metadata": {},
   "outputs": [],
   "source": [
    "#Question3"
   ]
  },
  {
   "cell_type": "code",
   "execution_count": 13,
   "id": "fb6e61dc-b505-4050-9a8a-04707017ad3b",
   "metadata": {},
   "outputs": [],
   "source": [
    "s1 = \"education\""
   ]
  },
  {
   "cell_type": "code",
   "execution_count": 14,
   "id": "2ee0b8af-a221-43db-b791-d7e0cb006eeb",
   "metadata": {},
   "outputs": [
    {
     "data": {
      "text/plain": [
       "'EDUCATION'"
      ]
     },
     "execution_count": 14,
     "metadata": {},
     "output_type": "execute_result"
    }
   ],
   "source": [
    "s1.upper()"
   ]
  },
  {
   "cell_type": "code",
   "execution_count": null,
   "id": "c2de20ca-a925-489a-90c4-2aa064ebc616",
   "metadata": {},
   "outputs": [],
   "source": [
    "#Question4"
   ]
  },
  {
   "cell_type": "code",
   "execution_count": 16,
   "id": "2c1f0e94-4dde-44f5-a520-468f30b5139c",
   "metadata": {},
   "outputs": [],
   "source": [
    "s2 = \"MADAM\""
   ]
  },
  {
   "cell_type": "code",
   "execution_count": 17,
   "id": "3cb9a296-bedf-4fde-9613-f02936e783b4",
   "metadata": {},
   "outputs": [
    {
     "data": {
      "text/plain": [
       "'madam'"
      ]
     },
     "execution_count": 17,
     "metadata": {},
     "output_type": "execute_result"
    }
   ],
   "source": [
    "s2.lower()"
   ]
  },
  {
   "cell_type": "code",
   "execution_count": null,
   "id": "3e7bf0cc-cc82-4a94-8e1f-5e8fd42585a6",
   "metadata": {},
   "outputs": [],
   "source": [
    "#Question5"
   ]
  },
  {
   "cell_type": "code",
   "execution_count": 25,
   "id": "594fdcbf-1d42-486a-8811-6cc392bbaa51",
   "metadata": {},
   "outputs": [
    {
     "name": "stdout",
     "output_type": "stream",
     "text": [
      "6\n"
     ]
    }
   ],
   "source": [
    "s3 = \"I am learning python\"\n",
    "vowel = 0\n",
    "for i in s3:\n",
    "    if i=='a' or i=='e' or i=='i' or i=='o' or i=='u' or i=='A' or i=='E' or i=='I' or i=='O' or i=='U':\n",
    "        vowel = vowel+1\n",
    "print(vowel)"
   ]
  },
  {
   "cell_type": "code",
   "execution_count": 12,
   "id": "060c1dd1-9094-46bb-9c45-b6b7ffc18353",
   "metadata": {},
   "outputs": [],
   "source": [
    "#Question6"
   ]
  },
  {
   "cell_type": "code",
   "execution_count": 11,
   "id": "c821369e-dade-4056-90bd-fdfaa3a14906",
   "metadata": {},
   "outputs": [
    {
     "name": "stdout",
     "output_type": "stream",
     "text": [
      "Consonant =  5\n"
     ]
    }
   ],
   "source": [
    "s4 = \"learning\"\n",
    "vowel = 0\n",
    "consonant = 0\n",
    "for i in s4:\n",
    "    if i=='a' or i=='e' or i=='i' or i=='o' or i=='u' or i=='A' or i=='E' or i=='I' or i=='O' or i=='U':\n",
    "        vowel = vowel+1\n",
    "    else:\n",
    "        consonant = consonant+1\n",
    "pass\n",
    "print(\"Consonant = \",consonant)\n",
    "    "
   ]
  },
  {
   "cell_type": "code",
   "execution_count": 1,
   "id": "7ffa4fee-c200-46d2-9b1d-a180e2e05f0a",
   "metadata": {},
   "outputs": [],
   "source": [
    "#Question7"
   ]
  },
  {
   "cell_type": "code",
   "execution_count": 3,
   "id": "9c10ad7d-4540-465f-91c7-632f95e70589",
   "metadata": {},
   "outputs": [
    {
     "data": {
      "text/plain": [
       "'pwskills'"
      ]
     },
     "execution_count": 3,
     "metadata": {},
     "output_type": "execute_result"
    }
   ],
   "source": [
    "s1 = \"  pw skills\"\n",
    "s2 = s1.replace(\" \",\"\")\n",
    "s2"
   ]
  },
  {
   "cell_type": "code",
   "execution_count": null,
   "id": "7f908a03-ebf8-49d2-a0fd-d6bc4f61eb5a",
   "metadata": {},
   "outputs": [],
   "source": [
    "#Question8"
   ]
  },
  {
   "cell_type": "code",
   "execution_count": 2,
   "id": "f7722574-fe75-465f-aad2-5898f926be1c",
   "metadata": {},
   "outputs": [
    {
     "name": "stdin",
     "output_type": "stream",
     "text": [
      "Enter a string:\n",
      " I am good\n"
     ]
    },
    {
     "name": "stdout",
     "output_type": "stream",
     "text": [
      "Length of the string: 9\n"
     ]
    }
   ],
   "source": [
    "s = input(\"Enter a string:\\n\")\n",
    "count = 0\n",
    "for i in s:\n",
    "  count = count+1\n",
    "print(\"Length of the string:\",count)"
   ]
  },
  {
   "cell_type": "code",
   "execution_count": null,
   "id": "699ce77a-6a8c-4527-abde-c28cfe515985",
   "metadata": {},
   "outputs": [],
   "source": [
    "#Question9"
   ]
  },
  {
   "cell_type": "code",
   "execution_count": 3,
   "id": "a419eaba-cbd6-414e-aaaa-18e5cde338eb",
   "metadata": {},
   "outputs": [
    {
     "name": "stdout",
     "output_type": "stream",
     "text": [
      "True\n"
     ]
    }
   ],
   "source": [
    "s = \"I am good\"\n",
    "if \"am\" in s:\n",
    "  print(\"True\")\n",
    "else:\n",
    "  print(\"False\")"
   ]
  },
  {
   "cell_type": "code",
   "execution_count": null,
   "id": "45496e3c-12f4-46d0-a8df-b0a2286ec238",
   "metadata": {},
   "outputs": [],
   "source": [
    "#Question10"
   ]
  },
  {
   "cell_type": "code",
   "execution_count": 5,
   "id": "fb51bacb-4332-460b-b980-ea0e41b698e3",
   "metadata": {},
   "outputs": [
    {
     "data": {
      "text/plain": [
       "'I mm lemrning python'"
      ]
     },
     "execution_count": 5,
     "metadata": {},
     "output_type": "execute_result"
    }
   ],
   "source": [
    "s1 =\"I am learning python\"\n",
    "s1.replace('a','m')"
   ]
  },
  {
   "cell_type": "code",
   "execution_count": null,
   "id": "e8ce84c5-49aa-47fc-beed-1a1dae2b3588",
   "metadata": {},
   "outputs": [],
   "source": [
    "#Question11"
   ]
  },
  {
   "cell_type": "code",
   "execution_count": 2,
   "id": "db32e554-1d63-421b-a03d-69989ca68c7d",
   "metadata": {},
   "outputs": [
    {
     "data": {
      "text/plain": [
       "3"
      ]
     },
     "execution_count": 2,
     "metadata": {},
     "output_type": "execute_result"
    }
   ],
   "source": [
    "s3 = \"I am learning python\"\n",
    "s3.count('n')"
   ]
  },
  {
   "cell_type": "code",
   "execution_count": null,
   "id": "6ea36ada-313b-4ca2-8edf-a37a1d442f18",
   "metadata": {},
   "outputs": [],
   "source": [
    "#Question12"
   ]
  },
  {
   "cell_type": "code",
   "execution_count": 5,
   "id": "1ed94449-dbae-4b2c-89aa-79dcdf26d129",
   "metadata": {},
   "outputs": [
    {
     "data": {
      "text/plain": [
       "3"
      ]
     },
     "execution_count": 5,
     "metadata": {},
     "output_type": "execute_result"
    }
   ],
   "source": [
    "s4 = \"I am learning python\"\n",
    "s4.find('m')"
   ]
  },
  {
   "cell_type": "code",
   "execution_count": null,
   "id": "8a63f773-bd1f-4d45-8cea-62e72359b475",
   "metadata": {},
   "outputs": [],
   "source": [
    "#Question13"
   ]
  },
  {
   "cell_type": "code",
   "execution_count": 6,
   "id": "ba3f5986-a716-44ed-a553-da82213761bf",
   "metadata": {},
   "outputs": [
    {
     "data": {
      "text/plain": [
       "26"
      ]
     },
     "execution_count": 6,
     "metadata": {},
     "output_type": "execute_result"
    }
   ],
   "source": [
    "s = \"I am good and what about you\"\n",
    "s.rfind('o')"
   ]
  },
  {
   "cell_type": "code",
   "execution_count": null,
   "id": "e6ef47ef-2dff-4cbe-af40-12bcb0bc8368",
   "metadata": {},
   "outputs": [],
   "source": [
    "#Question14"
   ]
  },
  {
   "cell_type": "code",
   "execution_count": 4,
   "id": "d0a051ad-305d-4446-92cc-bfdc54143853",
   "metadata": {},
   "outputs": [
    {
     "data": {
      "text/plain": [
       "['I', 'am', 'learning', 'python']"
      ]
     },
     "execution_count": 4,
     "metadata": {},
     "output_type": "execute_result"
    }
   ],
   "source": [
    "s = \"I am learning python\"\n",
    "s.split()"
   ]
  },
  {
   "cell_type": "code",
   "execution_count": null,
   "id": "b33c6701-6c07-4b23-a8ab-0e6f8ea9c499",
   "metadata": {},
   "outputs": [],
   "source": [
    "#Question15"
   ]
  },
  {
   "cell_type": "code",
   "execution_count": 6,
   "id": "b8ceddd2-7b0d-4619-9685-727c30a62947",
   "metadata": {},
   "outputs": [
    {
     "name": "stdout",
     "output_type": "stream",
     "text": [
      "['i', 'am', 'good']\n",
      "i am good\n"
     ]
    }
   ],
   "source": [
    "s = \"i am good\"\n",
    "r = s.split()\n",
    "print(r)\n",
    "a = str(print(' '.join(r)))"
   ]
  },
  {
   "cell_type": "code",
   "execution_count": null,
   "id": "f77018d8-2b3d-41cf-a5d4-7048516beaa4",
   "metadata": {},
   "outputs": [],
   "source": [
    "#Question16"
   ]
  },
  {
   "cell_type": "code",
   "execution_count": 9,
   "id": "c10bef0f-6b9e-49fd-aa9c-e8e52e58b1ca",
   "metadata": {},
   "outputs": [
    {
     "name": "stdout",
     "output_type": "stream",
     "text": [
      "I_am_good_to_go\n"
     ]
    }
   ],
   "source": [
    "s = \"I am good to go\"\n",
    "r = s.replace(' ','_')\n",
    "print(r)"
   ]
  },
  {
   "cell_type": "code",
   "execution_count": null,
   "id": "ad799bb5-44bf-4c2a-8adf-0c6359ce4561",
   "metadata": {},
   "outputs": [],
   "source": [
    "#Question17"
   ]
  },
  {
   "cell_type": "code",
   "execution_count": 1,
   "id": "da6a40e4-67eb-4be2-9b69-dfd934e530a3",
   "metadata": {},
   "outputs": [
    {
     "data": {
      "text/plain": [
       "True"
      ]
     },
     "execution_count": 1,
     "metadata": {},
     "output_type": "execute_result"
    }
   ],
   "source": [
    "s = \"We are happy\"\n",
    "s.startswith(\"We\")"
   ]
  },
  {
   "cell_type": "code",
   "execution_count": null,
   "id": "b65ba745-972e-467c-81d1-3099bd4e2a20",
   "metadata": {},
   "outputs": [],
   "source": [
    "#Question18"
   ]
  },
  {
   "cell_type": "code",
   "execution_count": 2,
   "id": "5c907444-a4d0-4c74-991b-e65ea93847df",
   "metadata": {},
   "outputs": [
    {
     "data": {
      "text/plain": [
       "True"
      ]
     },
     "execution_count": 2,
     "metadata": {},
     "output_type": "execute_result"
    }
   ],
   "source": [
    "s1 = \"I am good\"\n",
    "s1.endswith(\"good\")"
   ]
  },
  {
   "cell_type": "code",
   "execution_count": null,
   "id": "c9f608a8-21be-4899-8d67-0c99244cd3d3",
   "metadata": {},
   "outputs": [],
   "source": [
    "#Question19"
   ]
  },
  {
   "cell_type": "code",
   "execution_count": 23,
   "id": "527d4af9-e828-4ec6-aa35-7626f9419933",
   "metadata": {},
   "outputs": [
    {
     "data": {
      "text/plain": [
       "'Hello World'"
      ]
     },
     "execution_count": 23,
     "metadata": {},
     "output_type": "execute_result"
    }
   ],
   "source": [
    "s = \"hello world\"\n",
    "s1 = s.title()\n",
    "s1"
   ]
  },
  {
   "cell_type": "code",
   "execution_count": null,
   "id": "c8be4ffa-1d94-48db-a224-87316c08f568",
   "metadata": {},
   "outputs": [],
   "source": [
    "#Question20"
   ]
  },
  {
   "cell_type": "code",
   "execution_count": 38,
   "id": "f9f3f71d-d306-463f-ba01-d351b7fe9431",
   "metadata": {},
   "outputs": [
    {
     "name": "stdout",
     "output_type": "stream",
     "text": [
      "apple\n"
     ]
    }
   ],
   "source": [
    "def longestword(s):\n",
    "    s = s.split()\n",
    "    \n",
    "    print(max(s,key=len))\n",
    "    \n",
    "s = \"a red apple\"\n",
    "longestword(s)\n",
    "3    "
   ]
  },
  {
   "cell_type": "code",
   "execution_count": 35,
   "id": "a5039755-76e3-42c1-94a7-a43b432343ae",
   "metadata": {},
   "outputs": [],
   "source": [
    "#Question21"
   ]
  },
  {
   "cell_type": "code",
   "execution_count": 39,
   "id": "bbb8110c-6339-4d8e-a51a-85c1c8ae751c",
   "metadata": {},
   "outputs": [
    {
     "name": "stdout",
     "output_type": "stream",
     "text": [
      "a\n"
     ]
    }
   ],
   "source": [
    "def longestword(s):\n",
    "    s = s.split()\n",
    "    \n",
    "    print(min(s,key=len))\n",
    "    \n",
    "s = \"a red apple\"\n",
    "longestword(s)\n",
    "    "
   ]
  },
  {
   "cell_type": "code",
   "execution_count": null,
   "id": "31df5974-0310-47e4-bbf3-b5022a8ae6e3",
   "metadata": {},
   "outputs": [],
   "source": [
    "#Question22"
   ]
  },
  {
   "cell_type": "code",
   "execution_count": 43,
   "id": "7ebafafd-a7dd-41ce-9f9d-6ef6e36e4f9c",
   "metadata": {},
   "outputs": [
    {
     "name": "stdout",
     "output_type": "stream",
     "text": [
      "['a', 'quick', 'red', 'fox']\n",
      "fox red quick a\n"
     ]
    }
   ],
   "source": [
    "s = \"a quick red fox\"\n",
    "s1 = s.split()\n",
    "print(s1)\n",
    "s2 = s1[::-1]\n",
    "print(' '.join(s2))\n",
    "\n"
   ]
  },
  {
   "cell_type": "code",
   "execution_count": null,
   "id": "7603b3ac-bd87-4324-8a14-9c4a3e69e6bf",
   "metadata": {},
   "outputs": [],
   "source": [
    "#Question23"
   ]
  },
  {
   "cell_type": "code",
   "execution_count": 11,
   "id": "eb49373c-fc23-4699-9397-d06e6cc6ce18",
   "metadata": {},
   "outputs": [
    {
     "data": {
      "text/plain": [
       "True"
      ]
     },
     "execution_count": 11,
     "metadata": {},
     "output_type": "execute_result"
    }
   ],
   "source": [
    "s5 = \"python\"\n",
    "s5.isalnum()"
   ]
  },
  {
   "cell_type": "code",
   "execution_count": null,
   "id": "229cbf9d-112a-4499-bbe6-1255c8bd737e",
   "metadata": {},
   "outputs": [],
   "source": [
    "#Question24"
   ]
  },
  {
   "cell_type": "code",
   "execution_count": 47,
   "id": "2a81c5bd-f4ef-468f-88f8-151bc3ff81c0",
   "metadata": {},
   "outputs": [
    {
     "name": "stdout",
     "output_type": "stream",
     "text": [
      "8\n",
      "7\n",
      "5\n",
      "6\n",
      "6\n",
      "4\n"
     ]
    }
   ],
   "source": [
    "s = \"abc87 def56 ghi64\"\n",
    "for i in s:\n",
    "    if i.isdigit():\n",
    "        print(i)"
   ]
  },
  {
   "cell_type": "code",
   "execution_count": null,
   "id": "b8ee05a3-f073-4937-a136-548e24b5f8f5",
   "metadata": {},
   "outputs": [],
   "source": [
    "#Question25"
   ]
  },
  {
   "cell_type": "code",
   "execution_count": 49,
   "id": "91cfea98-42a5-4e98-a4dd-dbb8b4607c5b",
   "metadata": {},
   "outputs": [
    {
     "name": "stdout",
     "output_type": "stream",
     "text": [
      "a\n",
      "b\n",
      "c\n",
      "d\n",
      "e\n",
      "f\n",
      "g\n",
      "h\n",
      "i\n"
     ]
    }
   ],
   "source": [
    "s = \"abc87 def56 ghi64\"\n",
    "for i in s:\n",
    "    if i.isalpha():\n",
    "        print(i)"
   ]
  },
  {
   "cell_type": "code",
   "execution_count": null,
   "id": "db0a873d-a1be-4986-b562-6658e6b42e01",
   "metadata": {},
   "outputs": [],
   "source": [
    "#Question26"
   ]
  },
  {
   "cell_type": "code",
   "execution_count": 54,
   "id": "6d2dd33b-e93b-4d09-bbef-211d9abbfcfc",
   "metadata": {},
   "outputs": [
    {
     "name": "stdout",
     "output_type": "stream",
     "text": [
      "5\n"
     ]
    }
   ],
   "source": [
    "s = \"I am Ram from Chennai and I am learning Python\"\n",
    "count = 0\n",
    "for i in s:\n",
    "    if i.isupper():\n",
    "    \n",
    "     count = count+1\n",
    "print(count)\n",
    "    "
   ]
  },
  {
   "cell_type": "code",
   "execution_count": null,
   "id": "c4ed2846-754f-40ca-aa56-7ffd52c9f2f8",
   "metadata": {},
   "outputs": [],
   "source": [
    "#Question27"
   ]
  },
  {
   "cell_type": "code",
   "execution_count": 55,
   "id": "22def5ad-066a-4d74-8445-fe67f5979533",
   "metadata": {},
   "outputs": [
    {
     "name": "stdout",
     "output_type": "stream",
     "text": [
      "32\n"
     ]
    }
   ],
   "source": [
    "s = \"I am Ram from Chennai and I am learning Python\"\n",
    "count = 0\n",
    "for i in s:\n",
    "    if i.islower():\n",
    "    \n",
    "     count = count+1\n",
    "print(count)\n",
    "    "
   ]
  },
  {
   "cell_type": "code",
   "execution_count": null,
   "id": "fee40cd8-cf8b-47ed-8523-e0f446aeadc2",
   "metadata": {},
   "outputs": [],
   "source": [
    "#Question28"
   ]
  },
  {
   "cell_type": "code",
   "execution_count": 56,
   "id": "1ba8ae8d-c85b-4b67-a68b-edab0431f815",
   "metadata": {},
   "outputs": [
    {
     "data": {
      "text/plain": [
       "'i AM LEARNING pYTHON'"
      ]
     },
     "execution_count": 56,
     "metadata": {},
     "output_type": "execute_result"
    }
   ],
   "source": [
    "s8 = \"I am learning Python\"\n",
    "s8.swapcase()"
   ]
  },
  {
   "cell_type": "code",
   "execution_count": null,
   "id": "abc7bdaa-2eab-48ed-98cc-08318e13b976",
   "metadata": {},
   "outputs": [],
   "source": [
    "#Question29"
   ]
  },
  {
   "cell_type": "code",
   "execution_count": 63,
   "id": "bc99e0ab-5683-460e-991c-e9bf85883e81",
   "metadata": {},
   "outputs": [
    {
     "name": "stdout",
     "output_type": "stream",
     "text": [
      "She is singing .The name of the  is 'Sunday'\n"
     ]
    }
   ],
   "source": [
    "s = \"She is singing song.The name of the song is 'Sunday'\"\n",
    "s1 = s.replace('song','')\n",
    "print(s1)"
   ]
  },
  {
   "cell_type": "code",
   "execution_count": null,
   "id": "e2ed4f1d-dc4c-4520-924a-640bd7446a57",
   "metadata": {},
   "outputs": [],
   "source": [
    "#Question30"
   ]
  },
  {
   "cell_type": "code",
   "execution_count": 4,
   "id": "98735505-187b-4e18-ae79-1cdfc45f2923",
   "metadata": {},
   "outputs": [
    {
     "name": "stdout",
     "output_type": "stream",
     "text": [
      "Valid email address\n"
     ]
    }
   ],
   "source": [
    "import re\n",
    "\n",
    "def validate_email(email):\n",
    "    if re.match(r\"[^@]+@[^@]+\\.[^@]+\",email):\n",
    "        return True\n",
    "    return False\n",
    "\n",
    "email = \"abd@domain.com\"\n",
    "if validate_email(email):\n",
    "    print(\"Valid email address\")\n",
    "else:\n",
    "    print(\"Invalid email address\")"
   ]
  },
  {
   "cell_type": "code",
   "execution_count": null,
   "id": "8cc89d8f-ebcc-4790-bf09-4f7cd1e7b2ea",
   "metadata": {},
   "outputs": [],
   "source": [
    "#Question31"
   ]
  },
  {
   "cell_type": "code",
   "execution_count": 9,
   "id": "562d7500-c98b-4070-99cb-9192c9a9bd26",
   "metadata": {},
   "outputs": [
    {
     "name": "stdout",
     "output_type": "stream",
     "text": [
      "The original string is :abcd@gmail.com\n",
      "The extracted domain name : abcd\n"
     ]
    }
   ],
   "source": [
    "test_string = \"abcd@gmail.com\"\n",
    "print(\"The original string is :\"+ test_string)\n",
    "res = test_string[:test_string.index('@')]\n",
    "print(\"The extracted domain name : \" + res)"
   ]
  },
  {
   "cell_type": "code",
   "execution_count": null,
   "id": "645105a1-b401-4dca-a5c6-83b63b01fae6",
   "metadata": {},
   "outputs": [],
   "source": [
    "#Question32"
   ]
  },
  {
   "cell_type": "code",
   "execution_count": 8,
   "id": "1afc8a8a-ea9a-4fee-90d6-9a0c2c143707",
   "metadata": {},
   "outputs": [
    {
     "name": "stdout",
     "output_type": "stream",
     "text": [
      "The original string is :abcd@gmail.com\n",
      "The extracted domain name : gmail.com\n"
     ]
    }
   ],
   "source": [
    "test_string = \"abcd@gmail.com\"\n",
    "print(\"The original string is :\"+ test_string)\n",
    "res = test_string[test_string.index('@') + 1 :]\n",
    "print(\"The extracted domain name : \" + res)"
   ]
  },
  {
   "cell_type": "code",
   "execution_count": null,
   "id": "16568dee-9b15-4caf-abd5-d4eae26bf66e",
   "metadata": {},
   "outputs": [],
   "source": [
    "#Question33"
   ]
  },
  {
   "cell_type": "code",
   "execution_count": 13,
   "id": "287a0d98-6b36-4f18-8287-b5895d0d3577",
   "metadata": {},
   "outputs": [
    {
     "name": "stdout",
     "output_type": "stream",
     "text": [
      "['I', 'am', 'good']\n",
      "I am good\n"
     ]
    }
   ],
   "source": [
    "s1 = \"I   am                 good\"\n",
    "s2 = s1.split()\n",
    "print(s2)\n",
    "print(\" \".join(s2))"
   ]
  },
  {
   "cell_type": "code",
   "execution_count": null,
   "id": "c9c35135-0599-4645-8d75-8fee9ef610db",
   "metadata": {},
   "outputs": [],
   "source": [
    "#Question34"
   ]
  },
  {
   "cell_type": "code",
   "execution_count": 5,
   "id": "52d8b393-6bb9-4a75-878e-9fc3f6d4cb35",
   "metadata": {},
   "outputs": [
    {
     "name": "stdin",
     "output_type": "stream",
     "text": [
      "Provide the string:  https://www.riagupta.com/python-program-to-check-for-url-in-a-string\n"
     ]
    },
    {
     "name": "stdout",
     "output_type": "stream",
     "text": [
      "('url in the string is : ', ['https://www.riagupta.com/python-program-to-check-for-url-in-a-string'])\n"
     ]
    }
   ],
   "source": [
    "import re\n",
    "def checkURL(str):\n",
    "    regex = 'http[s]?://(?:[a-zA-Z]|[$-_@.&+]|[!*\\(\\), ]|(?:%[0-9a-fA-F][0-9a-fA-F]))+'\n",
    "    checkURL = re.findall(regex,str)\n",
    "    if checkURL:\n",
    "        return \"url in the string is : \",checkURL\n",
    "    else:\n",
    "        return \"URL is not present\"\n",
    "m = input(\"Provide the string: \")\n",
    "print(checkURL(m))"
   ]
  },
  {
   "cell_type": "code",
   "execution_count": null,
   "id": "264defea-8998-4562-9695-fddc06ad4bf9",
   "metadata": {},
   "outputs": [],
   "source": [
    "#Question35"
   ]
  },
  {
   "cell_type": "code",
   "execution_count": 12,
   "id": "6773c2bd-037c-48f7-bc77-792202de0522",
   "metadata": {},
   "outputs": [
    {
     "name": "stdout",
     "output_type": "stream",
     "text": [
      "Schema : https\n"
     ]
    }
   ],
   "source": [
    "from urllib.parse import urlparse , parse_qs\n",
    "\n",
    "url = \"https://www.example.com/path/to /page?id=123&active=true\"\n",
    "\n",
    "parsed_url = urlparse(url)\n",
    "domain = parsed_url.netloc\n",
    "path = parsed_url.path\n",
    "\n",
    "params = parse_qs(parsed_url.query)\n",
    "schema = parsed_url.scheme\n",
    "\n",
    "\n",
    "print(f\"Schema : {schema}\")"
   ]
  },
  {
   "cell_type": "code",
   "execution_count": null,
   "id": "17954039-7bf0-4c11-8ef5-e12dc1d057c9",
   "metadata": {},
   "outputs": [],
   "source": [
    "#Question36"
   ]
  },
  {
   "cell_type": "code",
   "execution_count": 7,
   "id": "d86020bb-fc89-4da8-a7d9-2e640215a602",
   "metadata": {},
   "outputs": [
    {
     "name": "stdout",
     "output_type": "stream",
     "text": [
      "Count of all characters is:\n",
      "{'I': 1, ' ': 3, 'a': 2, 'm': 1, 'l': 1, 'e': 1, 'r': 1, 'n': 3, 'i': 1, 'g': 1, 'p': 1, 'y': 1, 't': 1, 'h': 1, 'o': 1}\n"
     ]
    }
   ],
   "source": [
    "string = \"I am learning python\"\n",
    "all_freq = {}\n",
    "for i in string:\n",
    "    if i in all_freq:\n",
    "        all_freq[i] += 1\n",
    "    else:\n",
    "        all_freq[i] = 1\n",
    "print(\"Count of all characters is:\\n\" + str(all_freq))"
   ]
  },
  {
   "cell_type": "code",
   "execution_count": null,
   "id": "52278c53-9490-4bb1-97d6-e69531d25b8d",
   "metadata": {},
   "outputs": [],
   "source": [
    "#Question37"
   ]
  },
  {
   "cell_type": "code",
   "execution_count": 11,
   "id": "ffd268a5-ded1-49c1-b0b2-cf13bed6d134",
   "metadata": {},
   "outputs": [
    {
     "name": "stdout",
     "output_type": "stream",
     "text": [
      "Original string : Gfg , is best : for ! us ;\n",
      "The string after removing punctuation: Gfg  is best  for  us \n"
     ]
    }
   ],
   "source": [
    "import string\n",
    "\n",
    "str1 = \"Gfg , is best : for ! us ;\"\n",
    "print(\"Original string :\",str1)\n",
    "for punctuation in string.punctuation:\n",
    "    str1 = str1.replace(punctuation,'')\n",
    "print(\"The string after removing punctuation: \" + str1)"
   ]
  },
  {
   "cell_type": "code",
   "execution_count": null,
   "id": "ccc2b3b0-db0d-41f4-8755-22f319314417",
   "metadata": {},
   "outputs": [],
   "source": [
    "#Question38"
   ]
  },
  {
   "cell_type": "code",
   "execution_count": 13,
   "id": "e352dc0c-2105-4a6b-8f54-6f6d4aab4e87",
   "metadata": {},
   "outputs": [
    {
     "name": "stdout",
     "output_type": "stream",
     "text": [
      "The string contains only digits\n"
     ]
    }
   ],
   "source": [
    "string = \"4252627\"\n",
    "if string.isdigit():\n",
    "    print(\"The string contains only digits\")\n",
    "else:\n",
    "    print(\"The string contains non-digit characters also\")"
   ]
  },
  {
   "cell_type": "code",
   "execution_count": null,
   "id": "ca841408-68bb-4eb2-80e0-fa9545f600cc",
   "metadata": {},
   "outputs": [],
   "source": [
    "#Question39"
   ]
  },
  {
   "cell_type": "code",
   "execution_count": 18,
   "id": "67a773c8-7776-4865-9539-e500a92218f9",
   "metadata": {},
   "outputs": [
    {
     "name": "stdout",
     "output_type": "stream",
     "text": [
      "The string contains only alphabets\n"
     ]
    }
   ],
   "source": [
    "str2 = \"Iamgood\"\n",
    "if str2.isalpha():\n",
    "    print(\"The string contains only alphabets\")\n",
    "else:\n",
    "    print(\"The string contains other characters also\")"
   ]
  },
  {
   "cell_type": "code",
   "execution_count": null,
   "id": "8960fe93-9fd1-472c-854d-548672299006",
   "metadata": {},
   "outputs": [],
   "source": [
    "#Question40"
   ]
  },
  {
   "cell_type": "code",
   "execution_count": 23,
   "id": "7e376b3e-e47b-4b4a-b4b9-9e705d663c4f",
   "metadata": {},
   "outputs": [
    {
     "name": "stdout",
     "output_type": "stream",
     "text": [
      "['p', 'y', 't', 'h', 'o', 'n', ' ', 'i', 's', ' ', 'g', 'o', 'o', 'd']\n"
     ]
    }
   ],
   "source": [
    "str3 = \"python is good\"\n",
    "str4 = list(str3)\n",
    "print(str4)"
   ]
  },
  {
   "cell_type": "code",
   "execution_count": null,
   "id": "2367ca2a-017d-4435-934d-a55571bf15c3",
   "metadata": {},
   "outputs": [],
   "source": [
    "#Question41"
   ]
  },
  {
   "cell_type": "code",
   "execution_count": 29,
   "id": "eaa563a7-df80-4a16-bf84-ee59be61a1ca",
   "metadata": {},
   "outputs": [
    {
     "name": "stdout",
     "output_type": "stream",
     "text": [
      "Strings are anagrams\n"
     ]
    }
   ],
   "source": [
    "str1 = \"abcd\"\n",
    "str2 = \"cbda\"\n",
    "if sorted(str1) == sorted(str2):\n",
    "    print(\"Strings are anagrams\")\n",
    "else:\n",
    "    print(\"Strings are not anagrams\")"
   ]
  },
  {
   "cell_type": "code",
   "execution_count": null,
   "id": "66d486f7-0192-47b0-bd60-78cd72ec9ec8",
   "metadata": {},
   "outputs": [],
   "source": [
    "#Question42"
   ]
  },
  {
   "cell_type": "code",
   "execution_count": 9,
   "id": "cf5edb04-28c2-447a-aa86-b6af6f6be468",
   "metadata": {},
   "outputs": [
    {
     "name": "stdout",
     "output_type": "stream",
     "text": [
      "Plain Text : CEASER CIPHER\n",
      "Shift pattern : 4\n",
      "Cipher : GIEWIVrGMTLIV\n"
     ]
    }
   ],
   "source": [
    "def encrypt(text,s):\n",
    "    result = \"\"\n",
    "   \n",
    "    for i in range (len(text)):\n",
    "        char = text[i]\n",
    "        \n",
    "        if (char.isupper()):\n",
    "            result += chr((ord(char) + s-65) % 26 + 65)\n",
    "        else:\n",
    "            result += chr((ord(char) + s -97) % 26 + 97)\n",
    "    return result\n",
    "    \n",
    "text = \"CEASER CIPHER\"\n",
    "s = 4\n",
    "\n",
    "print (\"Plain Text : \" + text)\n",
    "print (\"Shift pattern : \" + str(s))\n",
    "print (\"Cipher : \" + encrypt(text,s))"
   ]
  },
  {
   "cell_type": "code",
   "execution_count": null,
   "id": "811c5ce6-d16d-45fb-ab7f-df13fc17fda5",
   "metadata": {},
   "outputs": [],
   "source": [
    "#Question43"
   ]
  },
  {
   "cell_type": "code",
   "execution_count": 6,
   "id": "2a7d1bd6-5343-47df-8625-24fe0d7cc566",
   "metadata": {},
   "outputs": [
    {
     "name": "stdout",
     "output_type": "stream",
     "text": [
      "k co ngctpkpi ravjqp\n",
      "i am learning python\n"
     ]
    }
   ],
   "source": [
    "def encrypt(text,shift):\n",
    "    text = text.lower()\n",
    "    encrypted_text = \"\"\n",
    "    for char in text :\n",
    "        if char.islower():\n",
    "            encrypted_text += chr((ord(char) + shift - 97) % 26 + 97)\n",
    "        else:\n",
    "            encrypted_text += char\n",
    "    return encrypted_text\n",
    "\n",
    "def decrypt(text,shift):\n",
    "    text = text.lower()\n",
    "    decrypted_text = \"\"\n",
    "    for char in text:\n",
    "        if char.islower():\n",
    "            decrypted_text += chr((ord(char) - shift - 97) % 26 + 97)\n",
    "        else:\n",
    "            decrypted_text += char\n",
    "    return decrypted_text\n",
    "\n",
    "originalMessage = \"I am learning Python\"\n",
    "encryptedMessage = encrypt(originalMessage, 2)\n",
    "print(encryptedMessage)\n",
    "decryptedMessage = decrypt(encryptedMessage, 2)\n",
    "print(decryptedMessage)"
   ]
  },
  {
   "cell_type": "code",
   "execution_count": null,
   "id": "0d5757aa-d999-4c7f-8034-b11993288e81",
   "metadata": {},
   "outputs": [],
   "source": [
    "#Question44"
   ]
  },
  {
   "cell_type": "code",
   "execution_count": 5,
   "id": "a7afbe3e-5b06-4f3f-8bf1-e7c374f6fdb8",
   "metadata": {},
   "outputs": [
    {
     "name": "stdout",
     "output_type": "stream",
     "text": [
      "Most repeated word(s) :  ['This', 'string']\n",
      "Frequency :  2\n"
     ]
    }
   ],
   "source": [
    "from collections import Counter\n",
    "\n",
    "def most_repeated_word(text):\n",
    "    words = text.split()\n",
    "    \n",
    "    word_counts = Counter(words)\n",
    "    \n",
    "    max_count = max(word_counts.values())\n",
    "    \n",
    "    most_repeated_words = [word for word , count in word_counts.items() if count == max_count]\n",
    "    \n",
    "    return most_repeated_words , max_count\n",
    "\n",
    "input_string = \"This is a sample string . This string contains repeated words. \"\n",
    "\n",
    "most_repeated_words, max_count = most_repeated_word(input_string)\n",
    "\n",
    "print(\"Most repeated word(s) : \",most_repeated_words)\n",
    "print(\"Frequency : \",max_count)"
   ]
  },
  {
   "cell_type": "code",
   "execution_count": null,
   "id": "2ddb986c-9e19-4a53-a1c4-db48349b48e6",
   "metadata": {},
   "outputs": [],
   "source": [
    "#Question45"
   ]
  },
  {
   "cell_type": "code",
   "execution_count": 6,
   "id": "1fa21da3-1e46-4cf0-a579-a667a1f4569c",
   "metadata": {},
   "outputs": [
    {
     "name": "stdin",
     "output_type": "stream",
     "text": [
      "Please enter a sentence : my email id is abc@gmail.com\n"
     ]
    },
    {
     "name": "stdout",
     "output_type": "stream",
     "text": [
      "The words in that sentence are :  ['my', 'email', 'id', 'is', 'abc@gmail.com']\n",
      "Here are the unique words in that sentence :  {'s', 'm', '@', 'l', 'g', 'o', 'e', 'b', 'c', ' ', 'y', '.', 'a', 'd', 'i'}\n"
     ]
    }
   ],
   "source": [
    "str1 = input(\"Please enter a sentence :\")\n",
    "\n",
    "print(\"The words in that sentence are : \",str1.split())\n",
    "\n",
    "unique = set(str1)\n",
    "print(\"Here are the unique words in that sentence : \",unique)"
   ]
  },
  {
   "cell_type": "code",
   "execution_count": null,
   "id": "becc7990-6e5e-4b15-add9-e85f634cd844",
   "metadata": {},
   "outputs": [],
   "source": [
    "#Question46"
   ]
  },
  {
   "cell_type": "code",
   "execution_count": 7,
   "id": "ad5ef7a0-f948-4985-a48a-160b022900db",
   "metadata": {},
   "outputs": [
    {
     "name": "stdout",
     "output_type": "stream",
     "text": [
      "2\n"
     ]
    }
   ],
   "source": [
    "def count(word):\n",
    "    new_word = word\n",
    "    count_syllables = new_word.split('-')\n",
    "    return len(count_syllables)\n",
    "\n",
    "print(count(\"ho-tel\"))"
   ]
  },
  {
   "cell_type": "code",
   "execution_count": null,
   "id": "f2b9db10-8c1e-4b3a-9c06-4ece15a12ef2",
   "metadata": {},
   "outputs": [],
   "source": [
    "#Question47"
   ]
  },
  {
   "cell_type": "code",
   "execution_count": 9,
   "id": "9645340b-1dca-4441-b2a0-2fdad8b1d579",
   "metadata": {},
   "outputs": [
    {
     "name": "stdout",
     "output_type": "stream",
     "text": [
      "String has special characters\n"
     ]
    }
   ],
   "source": [
    "import re\n",
    "\n",
    "def run(string):\n",
    "    regex = re.compile('[@#$%^*()<>?/\\|}{~`:]')\n",
    "    \n",
    "    if(regex.search(string) == None):\n",
    "        print(\"String has not special characters\")\n",
    "    else:\n",
    "        print(\"String has special characters\")\n",
    "        \n",
    "string = \"my email id is 123@gmail.com\"\n",
    "run(string)"
   ]
  },
  {
   "cell_type": "code",
   "execution_count": null,
   "id": "db0ac891-adf5-4a21-97a2-fe485c8db7aa",
   "metadata": {},
   "outputs": [],
   "source": [
    "#Question48"
   ]
  },
  {
   "cell_type": "code",
   "execution_count": 10,
   "id": "c9f11069-9028-4cb5-98ad-8c8e82d93ab9",
   "metadata": {},
   "outputs": [
    {
     "name": "stdout",
     "output_type": "stream",
     "text": [
      "String =  How are you?\n",
      "Updated string =   How are yu?\n"
     ]
    }
   ],
   "source": [
    "myStr = \"How are you?\"\n",
    "print(\"String = \",myStr)\n",
    "\n",
    "n = 9\n",
    "\n",
    "newStr = \" \"\n",
    "\n",
    "for char in range(0, len(myStr)):\n",
    "    if(char != n):\n",
    "        newStr += myStr[char]\n",
    "        \n",
    "print(\"Updated string = \",newStr)"
   ]
  },
  {
   "cell_type": "code",
   "execution_count": null,
   "id": "27f09e96-6086-4388-82dc-62f1a4bcdf29",
   "metadata": {},
   "outputs": [],
   "source": [
    "#Question49"
   ]
  },
  {
   "cell_type": "code",
   "execution_count": 12,
   "id": "5db98320-9194-4641-8932-070bb6c38992",
   "metadata": {},
   "outputs": [
    {
     "name": "stdout",
     "output_type": "stream",
     "text": [
      "Adding 'p' at the 5th index of an input string:\n",
      " happyplace\n"
     ]
    }
   ],
   "source": [
    "inputstring = \"happylace\"\n",
    "\n",
    "inputstring = inputstring[:5] + \"p\" + inputstring[5:]\n",
    "\n",
    "print(\"Adding 'p' at the 5th index of an input string:\\n\",inputstring)"
   ]
  },
  {
   "cell_type": "code",
   "execution_count": null,
   "id": "30a66fc3-0478-4e6f-8d50-5655e040883d",
   "metadata": {},
   "outputs": [],
   "source": [
    "#Question50"
   ]
  },
  {
   "cell_type": "code",
   "execution_count": 5,
   "id": "acbb31b0-4c1b-44a0-a834-d7cb0ca8a21f",
   "metadata": {},
   "outputs": [
    {
     "name": "stdout",
     "output_type": "stream",
     "text": [
      "[['1', 'mango', 'fruit'], ['2', 'tomato', 'vegetable'], ['3', 'almond', 'nuts']]\n"
     ]
    }
   ],
   "source": [
    "import csv\n",
    "import io\n",
    "\n",
    "def csv_string_to_list(csv_string):\n",
    "    csv_file = io.StringIO(csv_string)\n",
    "    \n",
    "    csv_reader = csv.reader(csv_file)\n",
    "    \n",
    "    csv_data = list(csv_reader)\n",
    "    \n",
    "    return csv_data\n",
    "\n",
    "csv_string = \"\"\"1,mango,fruit\n",
    "2,tomato,vegetable\n",
    "3,almond,nuts\"\"\"\n",
    "\n",
    "csv_list = csv_string_to_list(csv_string)\n",
    "print(csv_list)"
   ]
  },
  {
   "cell_type": "code",
   "execution_count": 3,
   "id": "8963014c-099a-4115-8387-865267c921d5",
   "metadata": {},
   "outputs": [],
   "source": [
    "#List Based Question"
   ]
  },
  {
   "cell_type": "code",
   "execution_count": null,
   "id": "1c60129c-d0bd-4e52-ae2b-a920e0d606d6",
   "metadata": {},
   "outputs": [],
   "source": [
    "#Question1"
   ]
  },
  {
   "cell_type": "code",
   "execution_count": 1,
   "id": "b75b6a51-6fd7-4d94-9c43-8fe94068b418",
   "metadata": {},
   "outputs": [],
   "source": [
    "lst1 = [1,2,3,4,5,6,7,8,9,10]"
   ]
  },
  {
   "cell_type": "code",
   "execution_count": 2,
   "id": "a314da21-4c37-4729-b4e5-4140d476d280",
   "metadata": {},
   "outputs": [
    {
     "data": {
      "text/plain": [
       "[1, 2, 3, 4, 5, 6, 7, 8, 9, 10]"
      ]
     },
     "execution_count": 2,
     "metadata": {},
     "output_type": "execute_result"
    }
   ],
   "source": [
    "lst1"
   ]
  },
  {
   "cell_type": "code",
   "execution_count": null,
   "id": "5dfbdac1-0ec0-4880-b71d-53f3c8cc9785",
   "metadata": {},
   "outputs": [],
   "source": [
    "#Question2"
   ]
  },
  {
   "cell_type": "code",
   "execution_count": 8,
   "id": "336f13dc-a9e3-40f2-a911-bce9c87985de",
   "metadata": {},
   "outputs": [
    {
     "name": "stdout",
     "output_type": "stream",
     "text": [
      "Length of the string :  6\n"
     ]
    }
   ],
   "source": [
    "len1 = [1,2,3,4,33,7]\n",
    "count = 0\n",
    "for i in len1:\n",
    "    count = count + 1\n",
    "print(\"Length of the string : \",count)"
   ]
  },
  {
   "cell_type": "code",
   "execution_count": null,
   "id": "a2b00a82-56d2-4a91-84c5-0de064408fcb",
   "metadata": {},
   "outputs": [],
   "source": [
    "#Question3"
   ]
  },
  {
   "cell_type": "code",
   "execution_count": 3,
   "id": "57c53655-50be-47b6-a47f-8de3e964def1",
   "metadata": {},
   "outputs": [],
   "source": [
    "l1 = [1,2,3]"
   ]
  },
  {
   "cell_type": "code",
   "execution_count": 4,
   "id": "5e042f56-de3a-4466-b39e-6d21622de78b",
   "metadata": {},
   "outputs": [],
   "source": [
    "l1.append(6)"
   ]
  },
  {
   "cell_type": "code",
   "execution_count": 5,
   "id": "cacfd7ae-c313-498d-85ef-b721206c4998",
   "metadata": {},
   "outputs": [
    {
     "data": {
      "text/plain": [
       "[1, 2, 3, 6]"
      ]
     },
     "execution_count": 5,
     "metadata": {},
     "output_type": "execute_result"
    }
   ],
   "source": [
    "l1"
   ]
  },
  {
   "cell_type": "code",
   "execution_count": 6,
   "id": "ef84babe-f764-401c-9add-0067f5638800",
   "metadata": {},
   "outputs": [],
   "source": [
    "#Question4"
   ]
  },
  {
   "cell_type": "code",
   "execution_count": 14,
   "id": "f2a6754b-b811-4b98-8d13-b2a36a3c1521",
   "metadata": {},
   "outputs": [],
   "source": [
    "lst = [1,2,3,6,4,5]"
   ]
  },
  {
   "cell_type": "code",
   "execution_count": 15,
   "id": "03d4b2e8-1674-4d3f-ab09-3c8bd14fe952",
   "metadata": {},
   "outputs": [],
   "source": [
    "lst.insert(3,9)"
   ]
  },
  {
   "cell_type": "code",
   "execution_count": 16,
   "id": "25a5ac5e-13b6-4970-81dc-acb40dcac4ac",
   "metadata": {},
   "outputs": [
    {
     "data": {
      "text/plain": [
       "[1, 2, 3, 9, 6, 4, 5]"
      ]
     },
     "execution_count": 16,
     "metadata": {},
     "output_type": "execute_result"
    }
   ],
   "source": [
    "lst"
   ]
  },
  {
   "cell_type": "code",
   "execution_count": 17,
   "id": "aca25a13-22ad-434a-aadb-d6185509f5c0",
   "metadata": {},
   "outputs": [],
   "source": [
    "#Question5"
   ]
  },
  {
   "cell_type": "code",
   "execution_count": 18,
   "id": "153ff57c-498e-48a9-9c80-04b42effc550",
   "metadata": {},
   "outputs": [],
   "source": [
    "lst=[1,2,3,4,5]"
   ]
  },
  {
   "cell_type": "code",
   "execution_count": 19,
   "id": "e0e3bd33-76a1-4664-b2ad-b3fe489bad99",
   "metadata": {},
   "outputs": [],
   "source": [
    "lst.remove(3)"
   ]
  },
  {
   "cell_type": "code",
   "execution_count": 20,
   "id": "0794c548-b61e-44f4-b7d8-ab0b51c535f6",
   "metadata": {},
   "outputs": [
    {
     "data": {
      "text/plain": [
       "[1, 2, 4, 5]"
      ]
     },
     "execution_count": 20,
     "metadata": {},
     "output_type": "execute_result"
    }
   ],
   "source": [
    "lst"
   ]
  },
  {
   "cell_type": "code",
   "execution_count": 21,
   "id": "df8a7906-dfce-40ff-a11f-c9eb71503b98",
   "metadata": {},
   "outputs": [],
   "source": [
    "#Question6"
   ]
  },
  {
   "cell_type": "code",
   "execution_count": 22,
   "id": "63cffb27-8247-4512-a9fd-76036a3e3849",
   "metadata": {},
   "outputs": [],
   "source": [
    "lst = [1,2,3,4,5]"
   ]
  },
  {
   "cell_type": "code",
   "execution_count": 23,
   "id": "05e7a7ae-ac31-46d3-b07f-6d15b137a016",
   "metadata": {},
   "outputs": [
    {
     "data": {
      "text/plain": [
       "3"
      ]
     },
     "execution_count": 23,
     "metadata": {},
     "output_type": "execute_result"
    }
   ],
   "source": [
    "lst.pop(2)"
   ]
  },
  {
   "cell_type": "code",
   "execution_count": 24,
   "id": "183c85e5-c778-407a-9fd5-49b10e200cde",
   "metadata": {},
   "outputs": [
    {
     "data": {
      "text/plain": [
       "[1, 2, 4, 5]"
      ]
     },
     "execution_count": 24,
     "metadata": {},
     "output_type": "execute_result"
    }
   ],
   "source": [
    "lst"
   ]
  },
  {
   "cell_type": "code",
   "execution_count": null,
   "id": "e4a13dd0-903c-4edc-a1a7-7bbf6cbd6193",
   "metadata": {},
   "outputs": [],
   "source": [
    "#Question7"
   ]
  },
  {
   "cell_type": "code",
   "execution_count": 12,
   "id": "4d657fc7-9122-476e-a6d3-5bcc3ec10f51",
   "metadata": {},
   "outputs": [
    {
     "name": "stdout",
     "output_type": "stream",
     "text": [
      "True\n"
     ]
    }
   ],
   "source": [
    "l = [1,3,45,6,8,7]\n",
    "if 8 in l:\n",
    "    print(\"True\")\n",
    "else:\n",
    "    print(\"False\")"
   ]
  },
  {
   "cell_type": "code",
   "execution_count": null,
   "id": "5f10f9b1-4a78-4f6f-8cfa-366cf055cd00",
   "metadata": {},
   "outputs": [],
   "source": [
    "#Question8"
   ]
  },
  {
   "cell_type": "code",
   "execution_count": 4,
   "id": "78d4bc15-2a7c-496d-8585-ea6f6f8731e2",
   "metadata": {},
   "outputs": [
    {
     "data": {
      "text/plain": [
       "2"
      ]
     },
     "execution_count": 4,
     "metadata": {},
     "output_type": "execute_result"
    }
   ],
   "source": [
    "l = [1,2,8,4,2,3,4,7]\n",
    "l.index(8)"
   ]
  },
  {
   "cell_type": "code",
   "execution_count": null,
   "id": "408e5a75-9c84-4065-80fc-63cc650fde32",
   "metadata": {},
   "outputs": [],
   "source": [
    "#Question9"
   ]
  },
  {
   "cell_type": "code",
   "execution_count": 26,
   "id": "c88bb01e-d10f-4c58-89e9-e6a50c41feea",
   "metadata": {},
   "outputs": [
    {
     "data": {
      "text/plain": [
       "1"
      ]
     },
     "execution_count": 26,
     "metadata": {},
     "output_type": "execute_result"
    }
   ],
   "source": [
    "l = [1,2,8,4,2,3,4,7]\n",
    "l.count(7)"
   ]
  },
  {
   "cell_type": "code",
   "execution_count": 27,
   "id": "72c168eb-cd06-451f-a64e-40c7c8c47363",
   "metadata": {},
   "outputs": [],
   "source": [
    "#Question10"
   ]
  },
  {
   "cell_type": "code",
   "execution_count": 28,
   "id": "89fd3f9c-86d8-4f71-aadf-2cf20e53beb6",
   "metadata": {},
   "outputs": [],
   "source": [
    "lst=[1,2,3,4,5]"
   ]
  },
  {
   "cell_type": "code",
   "execution_count": 30,
   "id": "315dcfd2-ed43-406f-8ff2-eb0e00f9c2ea",
   "metadata": {},
   "outputs": [
    {
     "data": {
      "text/plain": [
       "[5, 4, 3, 2, 1]"
      ]
     },
     "execution_count": 30,
     "metadata": {},
     "output_type": "execute_result"
    }
   ],
   "source": [
    "lst[::-1]"
   ]
  },
  {
   "cell_type": "code",
   "execution_count": 31,
   "id": "8a45622c-9c53-4f94-806e-1b15fd019684",
   "metadata": {},
   "outputs": [],
   "source": [
    "#Question11"
   ]
  },
  {
   "cell_type": "code",
   "execution_count": 2,
   "id": "fa2b1498-c97e-4874-9b53-2a8d386f469b",
   "metadata": {},
   "outputs": [],
   "source": [
    "l1=[1,5,7,2,77,33]"
   ]
  },
  {
   "cell_type": "code",
   "execution_count": 3,
   "id": "fb6483d6-d054-45bd-b4c4-c5128e972045",
   "metadata": {},
   "outputs": [],
   "source": [
    "l1.sort()"
   ]
  },
  {
   "cell_type": "code",
   "execution_count": 4,
   "id": "0fb5d555-0250-4fb1-bea8-e3fb32cf2888",
   "metadata": {},
   "outputs": [
    {
     "data": {
      "text/plain": [
       "[1, 2, 5, 7, 33, 77]"
      ]
     },
     "execution_count": 4,
     "metadata": {},
     "output_type": "execute_result"
    }
   ],
   "source": [
    "l1"
   ]
  },
  {
   "cell_type": "code",
   "execution_count": null,
   "id": "e621bc11-4b9d-41ae-8434-6b6a45cc4b47",
   "metadata": {},
   "outputs": [],
   "source": [
    "#Question12"
   ]
  },
  {
   "cell_type": "code",
   "execution_count": 7,
   "id": "0cfc28f0-8ec8-4d24-b30f-a79aaca87a32",
   "metadata": {},
   "outputs": [
    {
     "data": {
      "text/plain": [
       "[77, 33, 7, 5, 3, 2, 1]"
      ]
     },
     "execution_count": 7,
     "metadata": {},
     "output_type": "execute_result"
    }
   ],
   "source": [
    "l1 = [1,5,7,2,33,3,77]\n",
    "l1.sort(reverse=True)\n",
    "l1"
   ]
  },
  {
   "cell_type": "code",
   "execution_count": null,
   "id": "fb67c1da-12c8-4b2d-8897-0bec97ed3adc",
   "metadata": {},
   "outputs": [],
   "source": [
    "#Question13"
   ]
  },
  {
   "cell_type": "code",
   "execution_count": 19,
   "id": "15f3a499-b17e-49d4-b48f-7b7af9716077",
   "metadata": {},
   "outputs": [
    {
     "name": "stdout",
     "output_type": "stream",
     "text": [
      "[2, 4, 6, 8, 10, 12, 14, 16, 18, 20]\n"
     ]
    }
   ],
   "source": [
    "l1 = list(range(2,21,2))\n",
    "print(l1)"
   ]
  },
  {
   "cell_type": "code",
   "execution_count": 8,
   "id": "a845dc7b-a694-44c8-9ab1-5039201ca61e",
   "metadata": {},
   "outputs": [],
   "source": [
    "#Question14"
   ]
  },
  {
   "cell_type": "code",
   "execution_count": 18,
   "id": "6dcbf71c-2326-47aa-b15e-094454459744",
   "metadata": {},
   "outputs": [
    {
     "name": "stdout",
     "output_type": "stream",
     "text": [
      "[1, 3, 5, 7, 9, 11, 13, 15, 17, 19]\n"
     ]
    }
   ],
   "source": [
    "l1 = list(range(1,20,2))\n",
    "print(l1)"
   ]
  },
  {
   "cell_type": "code",
   "execution_count": null,
   "id": "5fd895ee-caa5-4deb-a194-f064fccadadc",
   "metadata": {},
   "outputs": [],
   "source": [
    "#Question15"
   ]
  },
  {
   "cell_type": "code",
   "execution_count": 6,
   "id": "58d44696-86a4-4b2d-ab6c-35470403f321",
   "metadata": {},
   "outputs": [],
   "source": [
    "l1=[1,2,6,3,5,8]"
   ]
  },
  {
   "cell_type": "code",
   "execution_count": 7,
   "id": "ba32faa7-cea9-44d9-a146-c0fb3f9d5c50",
   "metadata": {},
   "outputs": [
    {
     "data": {
      "text/plain": [
       "25"
      ]
     },
     "execution_count": 7,
     "metadata": {},
     "output_type": "execute_result"
    }
   ],
   "source": [
    "sum(l1)"
   ]
  },
  {
   "cell_type": "code",
   "execution_count": 8,
   "id": "2995012e-617a-491f-9f94-466a108a22be",
   "metadata": {},
   "outputs": [],
   "source": [
    "#Question16"
   ]
  },
  {
   "cell_type": "code",
   "execution_count": 9,
   "id": "d821f5bd-1870-485e-885e-c69c2f45567b",
   "metadata": {},
   "outputs": [],
   "source": [
    "l1=[1,4,7,4,77]"
   ]
  },
  {
   "cell_type": "code",
   "execution_count": 10,
   "id": "7c8142d9-f467-403d-8f7d-3f124e5512b3",
   "metadata": {},
   "outputs": [
    {
     "data": {
      "text/plain": [
       "77"
      ]
     },
     "execution_count": 10,
     "metadata": {},
     "output_type": "execute_result"
    }
   ],
   "source": [
    "max(l1)"
   ]
  },
  {
   "cell_type": "code",
   "execution_count": 11,
   "id": "07223f07-9bee-4c8c-9417-c7a32a8de087",
   "metadata": {},
   "outputs": [],
   "source": [
    "#Question17"
   ]
  },
  {
   "cell_type": "code",
   "execution_count": 12,
   "id": "274ae5be-7a69-48c7-b7aa-ce333b123a60",
   "metadata": {},
   "outputs": [],
   "source": [
    "l1=[1,4,7,4,77]"
   ]
  },
  {
   "cell_type": "code",
   "execution_count": 13,
   "id": "8e796e78-caa4-423e-aded-6ed9e35658be",
   "metadata": {},
   "outputs": [
    {
     "data": {
      "text/plain": [
       "1"
      ]
     },
     "execution_count": 13,
     "metadata": {},
     "output_type": "execute_result"
    }
   ],
   "source": [
    "min(l1)"
   ]
  },
  {
   "cell_type": "code",
   "execution_count": null,
   "id": "db8d448a-22ed-4df3-af7e-45a6123d7993",
   "metadata": {},
   "outputs": [],
   "source": [
    "#Question18"
   ]
  },
  {
   "cell_type": "code",
   "execution_count": 2,
   "id": "194cc1b1-f029-4a27-96d9-527c385d3e92",
   "metadata": {},
   "outputs": [
    {
     "name": "stdout",
     "output_type": "stream",
     "text": [
      "[1, 4, 9, 16, 25, 36, 49, 64, 81, 100]\n"
     ]
    }
   ],
   "source": [
    "l = [1,2,3,4,5,6,7,8,9,10]\n",
    "\n",
    "for i in range(len(l)):\n",
    "    l[i] = l[i]**2\n",
    "print(l)\n",
    "    "
   ]
  },
  {
   "cell_type": "code",
   "execution_count": null,
   "id": "ee213bfc-1f09-41a2-9ef0-e7b1dc2359b5",
   "metadata": {},
   "outputs": [],
   "source": [
    "#Question19"
   ]
  },
  {
   "cell_type": "code",
   "execution_count": 9,
   "id": "c5b65c5d-a555-42a3-a3b1-c75b4dba103b",
   "metadata": {},
   "outputs": [
    {
     "name": "stdout",
     "output_type": "stream",
     "text": [
      "[71, 49, 72, 82, 53, 36, 25, 66, 12, 65]\n"
     ]
    }
   ],
   "source": [
    "import random\n",
    "random_integers = []\n",
    "while len(random_integers) < 10:\n",
    "    random_integers.append(random.randint(1,100))\n",
    "    \n",
    "print(random_integers)"
   ]
  },
  {
   "cell_type": "code",
   "execution_count": null,
   "id": "df68f23d-a111-4ab8-9a5f-43cc1965619f",
   "metadata": {},
   "outputs": [],
   "source": [
    "#Question20"
   ]
  },
  {
   "cell_type": "code",
   "execution_count": 12,
   "id": "6f313d77-87dd-4cc8-be41-3328fec82819",
   "metadata": {},
   "outputs": [
    {
     "name": "stdout",
     "output_type": "stream",
     "text": [
      "Original string : [1, 5, 3, 6, 3, 5, 6, 1]\n",
      "List after removing duplicates :  [1, 3, 5, 6]\n"
     ]
    }
   ],
   "source": [
    "test_list = [1,5,3,6,3,5,6,1]\n",
    "print(\"Original string :\",test_list)\n",
    "\n",
    "test_list = list(set(test_list))\n",
    "print(\"List after removing duplicates : \",test_list)"
   ]
  },
  {
   "cell_type": "code",
   "execution_count": null,
   "id": "e9508f21-7859-469c-b426-4a09c3848e43",
   "metadata": {},
   "outputs": [],
   "source": [
    "#Question21"
   ]
  },
  {
   "cell_type": "code",
   "execution_count": 13,
   "id": "cbc2f715-68ce-4686-bc6c-5d6b97b724f0",
   "metadata": {},
   "outputs": [
    {
     "data": {
      "text/plain": [
       "[3, 5]"
      ]
     },
     "execution_count": 13,
     "metadata": {},
     "output_type": "execute_result"
    }
   ],
   "source": [
    "list1 = [1,2,3,4,5,6]\n",
    "list2 = [3,5,7,9]\n",
    "list(set(list1).intersection(list2))"
   ]
  },
  {
   "cell_type": "code",
   "execution_count": null,
   "id": "33cd3ad3-cfe2-4c5d-89d4-81252a6f7c3e",
   "metadata": {},
   "outputs": [],
   "source": [
    "#Question22"
   ]
  },
  {
   "cell_type": "code",
   "execution_count": 14,
   "id": "870c889a-d952-4436-8319-a491a0f960d1",
   "metadata": {},
   "outputs": [
    {
     "data": {
      "text/plain": [
       "[1, 2, 4, 6]"
      ]
     },
     "execution_count": 14,
     "metadata": {},
     "output_type": "execute_result"
    }
   ],
   "source": [
    "list1 = [1,2,3,4,5,6]\n",
    "list2 = [3,5,7,9]\n",
    "list(set(list1) - set(list2))"
   ]
  },
  {
   "cell_type": "code",
   "execution_count": null,
   "id": "c5e43107-3bc8-4ace-ba69-eeb7344c719d",
   "metadata": {},
   "outputs": [],
   "source": [
    "#Question23"
   ]
  },
  {
   "cell_type": "code",
   "execution_count": 21,
   "id": "87a53793-3eb7-4ba2-91fe-682e63e1c95c",
   "metadata": {},
   "outputs": [
    {
     "data": {
      "text/plain": [
       "[1, 2, 3, 4, 5, 6]"
      ]
     },
     "execution_count": 21,
     "metadata": {},
     "output_type": "execute_result"
    }
   ],
   "source": [
    "l1 = [1,2,3]\n",
    "l2 = [4,5,6]\n",
    "l1+l2"
   ]
  },
  {
   "cell_type": "code",
   "execution_count": null,
   "id": "0424d65d-0417-4cde-907f-14f2f73433bc",
   "metadata": {},
   "outputs": [],
   "source": [
    "#Question24"
   ]
  },
  {
   "cell_type": "code",
   "execution_count": 16,
   "id": "dafd2dc5-0c91-431a-8652-7aaad93fe6e7",
   "metadata": {},
   "outputs": [
    {
     "name": "stdout",
     "output_type": "stream",
     "text": [
      "[4, 9, 49, 36, 64]\n"
     ]
    }
   ],
   "source": [
    "lst = [2,3,7,6,8,]\n",
    "for i in range(len(lst)):\n",
    "    lst[i] = lst[i]**2\n",
    "print(lst)"
   ]
  },
  {
   "cell_type": "code",
   "execution_count": null,
   "id": "f2a5bc91-9dba-4784-83ab-b7857729c684",
   "metadata": {},
   "outputs": [],
   "source": [
    "#Question25"
   ]
  },
  {
   "cell_type": "code",
   "execution_count": 31,
   "id": "92421114-b979-4d16-9309-b2b6c2a076d8",
   "metadata": {},
   "outputs": [
    {
     "name": "stdout",
     "output_type": "stream",
     "text": [
      "[88, 4, 6, 10]\n"
     ]
    }
   ],
   "source": [
    "lst = [88,4,3,1,6,10,7]\n",
    "out_list = []\n",
    "for i in lst:\n",
    "    if i%2 == 0:\n",
    "        out_list.append(i)\n",
    "print(out_list)"
   ]
  },
  {
   "cell_type": "code",
   "execution_count": null,
   "id": "d56350aa-934d-4a44-b746-54ed894d35b4",
   "metadata": {},
   "outputs": [],
   "source": [
    "#Question26"
   ]
  },
  {
   "cell_type": "code",
   "execution_count": 33,
   "id": "340ae0d8-2cae-4c41-ab87-4b3eec95f39a",
   "metadata": {},
   "outputs": [
    {
     "name": "stdout",
     "output_type": "stream",
     "text": [
      "[1, 2, 3, 4, 5]\n"
     ]
    }
   ],
   "source": [
    "myList = [\"1\",\"2\",\"3\",\"4\",\"5\"]\n",
    "output_list = []\n",
    "for i in myList:\n",
    "    value = int(i)\n",
    "    output_list.append(value)\n",
    "    \n",
    "print(output_list)"
   ]
  },
  {
   "cell_type": "code",
   "execution_count": null,
   "id": "f6e786e1-078f-4b32-9be3-da1e0bc54b13",
   "metadata": {},
   "outputs": [],
   "source": [
    "#Question27"
   ]
  },
  {
   "cell_type": "code",
   "execution_count": 34,
   "id": "b9aed7d3-e28b-497b-83a9-a92db25c0d3f",
   "metadata": {},
   "outputs": [
    {
     "name": "stdout",
     "output_type": "stream",
     "text": [
      "['1', '2', '3', '4', '5']\n"
     ]
    }
   ],
   "source": [
    "myList = [1,2,3,4,5]\n",
    "output_list = []\n",
    "for i in myList:\n",
    "    value = str(i)\n",
    "    output_list.append(value)\n",
    "    \n",
    "print(output_list)"
   ]
  },
  {
   "cell_type": "code",
   "execution_count": null,
   "id": "d5203589-e9e9-4c86-a740-5a3121a12f52",
   "metadata": {},
   "outputs": [],
   "source": [
    "#Question28"
   ]
  },
  {
   "cell_type": "code",
   "execution_count": 36,
   "id": "b76f9f0c-ede0-4b0a-92a4-b1191fd2ff10",
   "metadata": {},
   "outputs": [
    {
     "name": "stdout",
     "output_type": "stream",
     "text": [
      "[1, 2, 3, 4, 5, 6, 7]\n"
     ]
    }
   ],
   "source": [
    "lst = [[1], [2,3], [4,5,6,7]]\n",
    "\n",
    "flat_list = []\n",
    "for sublist in lst:\n",
    "    for num in sublist:\n",
    "        flat_list.append(num)\n",
    "\n",
    "print(flat_list)"
   ]
  },
  {
   "cell_type": "code",
   "execution_count": null,
   "id": "7b3b9ced-29ea-4e5f-9a8c-988aff02aa04",
   "metadata": {},
   "outputs": [],
   "source": [
    "#Question29"
   ]
  },
  {
   "cell_type": "code",
   "execution_count": 41,
   "id": "2bbbf9ec-7b07-47c8-93ce-f021883ef605",
   "metadata": {},
   "outputs": [
    {
     "name": "stdout",
     "output_type": "stream",
     "text": [
      "[0, 1, 1, 2, 3, 5, 8, 13, 21, 34]\n"
     ]
    }
   ],
   "source": [
    "def gen_fibonacci(n):\n",
    "    if n <= 1:\n",
    "        return n\n",
    "    else:\n",
    "        return gen_fibonacci(n-1) + gen_fibonacci(n-2)\n",
    "    \n",
    "first_10_fibonacci = [gen_fibonacci(i) for i in range(10)]\n",
    "print(first_10_fibonacci)\n"
   ]
  },
  {
   "cell_type": "code",
   "execution_count": 39,
   "id": "7754c0a8-03c5-462a-8ee5-4c9fbf733098",
   "metadata": {},
   "outputs": [],
   "source": [
    "#Question30"
   ]
  },
  {
   "cell_type": "code",
   "execution_count": 42,
   "id": "081a1a34-8f72-4421-97be-1a4bc930391a",
   "metadata": {},
   "outputs": [
    {
     "name": "stdout",
     "output_type": "stream",
     "text": [
      "Original list :[1, 4, 5, 8, 10]\n",
      "List is sorted\n"
     ]
    }
   ],
   "source": [
    "lst = [1,4,5,8,10]\n",
    "print(\"Original list :\" + str(lst))\n",
    "\n",
    "flag = 0\n",
    "i = 1\n",
    "while i < len(lst):\n",
    "    if (lst[i] < lst[i-1]):\n",
    "        flag = 1\n",
    "    i +=1\n",
    "    \n",
    "if (not flag):\n",
    "    print(\"List is sorted\")\n",
    "else:\n",
    "    print(\"List is not sorted\")\n",
    "    "
   ]
  },
  {
   "cell_type": "code",
   "execution_count": null,
   "id": "d4742df6-02de-45c3-ab0a-545a2a55d2c6",
   "metadata": {},
   "outputs": [],
   "source": [
    "#Question31"
   ]
  },
  {
   "cell_type": "code",
   "execution_count": 2,
   "id": "8fe40abd-8a39-4c5e-bcc2-c1c2c3b41813",
   "metadata": {},
   "outputs": [
    {
     "name": "stdout",
     "output_type": "stream",
     "text": [
      "Original list :[1, 4, 6, 7, 2]\n",
      "List after left rotate by 3 :[7, 2, 1, 4, 6]\n"
     ]
    }
   ],
   "source": [
    "list1 = [1,4,6,7,2]\n",
    "print(\"Original list :\" + str(list1))\n",
    "list1 = list1[3:] + list1[:3]\n",
    "print(\"List after left rotate by 3 :\" + str(list1))"
   ]
  },
  {
   "cell_type": "code",
   "execution_count": null,
   "id": "c59c4600-5352-4af2-a12e-9671b41bea56",
   "metadata": {},
   "outputs": [],
   "source": [
    "#Question32"
   ]
  },
  {
   "cell_type": "code",
   "execution_count": 4,
   "id": "71eadbbe-419e-4639-a994-7d00e35b2adf",
   "metadata": {},
   "outputs": [
    {
     "name": "stdout",
     "output_type": "stream",
     "text": [
      "Original list :[1, 4, 6, 7, 2]\n",
      "List after right rotate by 3 :[6, 7, 2, 1, 4]\n"
     ]
    }
   ],
   "source": [
    "list1 = [1,4,6,7,2]\n",
    "print(\"Original list :\" + str(list1))\n",
    "list1 = list1[-3:] + list1[:-3]\n",
    "print(\"List after right rotate by 3 :\" + str(list1))"
   ]
  },
  {
   "cell_type": "code",
   "execution_count": 63,
   "id": "c88226cb-62e4-4446-9407-7173ba745d7c",
   "metadata": {},
   "outputs": [],
   "source": [
    "#Question33"
   ]
  },
  {
   "cell_type": "code",
   "execution_count": 6,
   "id": "4adf72fe-4b16-4c4f-b35c-b5aebf1395ff",
   "metadata": {},
   "outputs": [
    {
     "name": "stdout",
     "output_type": "stream",
     "text": [
      "[2, 3, 5, 7, 11, 13, 17, 19, 23, 29, 31, 37, 41, 43, 47]\n"
     ]
    }
   ],
   "source": [
    "def is_prime(n):\n",
    "    if n <= 1:\n",
    "        return False\n",
    "    for i in range(2, int(n**0.5) + 1):\n",
    "        if n % i == 0:\n",
    "            return False\n",
    "    return True\n",
    "\n",
    "prime_numbers = [x for x in range(1,51) if is_prime(x)]\n",
    "print(prime_numbers)"
   ]
  },
  {
   "cell_type": "code",
   "execution_count": 64,
   "id": "8bf99af3-4cfc-45c7-827d-cea851467eea",
   "metadata": {},
   "outputs": [],
   "source": [
    "#Question34"
   ]
  },
  {
   "cell_type": "code",
   "execution_count": 7,
   "id": "f227c87a-d8ce-4909-bf24-0f53a0d5f6c0",
   "metadata": {},
   "outputs": [
    {
     "name": "stdout",
     "output_type": "stream",
     "text": [
      "[1, 2, 3]\n",
      "[4, 5, 6]\n",
      "[7, 8, 9]\n"
     ]
    }
   ],
   "source": [
    "list1 = [1,2,3,4,5,6,7,8,9]\n",
    "start = 0\n",
    "end = len(list1)\n",
    "step = 3\n",
    "for i in range(start,end,step):\n",
    "    x = i\n",
    "    print(list1[x:x+step])"
   ]
  },
  {
   "cell_type": "code",
   "execution_count": null,
   "id": "25c9c2f6-ee20-40b5-93a6-4cab45fa0f2b",
   "metadata": {},
   "outputs": [],
   "source": [
    "#Question35"
   ]
  },
  {
   "cell_type": "code",
   "execution_count": 8,
   "id": "186f53ad-00e7-4ad9-9994-f115f9199674",
   "metadata": {},
   "outputs": [
    {
     "name": "stdout",
     "output_type": "stream",
     "text": [
      "Second largest element in the list : 45\n"
     ]
    }
   ],
   "source": [
    "list1 = [10,20,20,4,45,45,45,99,99]\n",
    "list2 = list(set(list1))\n",
    "list2.sort()\n",
    "print(\"Second largest element in the list :\",list2[-2])"
   ]
  },
  {
   "cell_type": "code",
   "execution_count": null,
   "id": "64fee1c7-c37f-4042-affb-1e9a2c9900be",
   "metadata": {},
   "outputs": [],
   "source": [
    "#Question36"
   ]
  },
  {
   "cell_type": "code",
   "execution_count": 10,
   "id": "1f669983-a71a-4812-bc99-f61999db4b3a",
   "metadata": {},
   "outputs": [
    {
     "name": "stdout",
     "output_type": "stream",
     "text": [
      "[1, 16, 9, 4, 25]\n"
     ]
    }
   ],
   "source": [
    "def square_list(list1):\n",
    "    for i in list1:\n",
    "        list1[list1.index(i)] = i**2\n",
    "    print(list1)\n",
    "    \n",
    "square_list([1,2,3,4,5])"
   ]
  },
  {
   "cell_type": "code",
   "execution_count": null,
   "id": "2495dbb0-c092-4807-8547-d15c0210df94",
   "metadata": {},
   "outputs": [],
   "source": [
    "#Question37"
   ]
  },
  {
   "cell_type": "code",
   "execution_count": 40,
   "id": "04884ce6-f789-4513-a587-8c3933e16b0a",
   "metadata": {},
   "outputs": [
    {
     "name": "stdout",
     "output_type": "stream",
     "text": [
      "{'a': 0, 'b': 1, 'c': 2, 'd': 3, 'e': 4}\n"
     ]
    }
   ],
   "source": [
    "my_list = ['a','b','c','d','e']\n",
    "my_dict = {value:index for index, value in enumerate(my_list)}\n",
    "print(my_dict)"
   ]
  },
  {
   "cell_type": "code",
   "execution_count": null,
   "id": "9e0c2ef3-0d87-40d4-9742-a87cc48cf170",
   "metadata": {},
   "outputs": [],
   "source": [
    "#Question38"
   ]
  },
  {
   "cell_type": "code",
   "execution_count": 39,
   "id": "bd96acc2-c5de-4e2a-89fe-7e4c87209f1f",
   "metadata": {},
   "outputs": [
    {
     "name": "stdout",
     "output_type": "stream",
     "text": [
      "[4, 2, 1, 5, 3]\n"
     ]
    }
   ],
   "source": [
    "import random\n",
    "\n",
    "my_list = [1,2,3,4,5]\n",
    "random.shuffle(my_list)\n",
    "\n",
    "print(my_list)"
   ]
  },
  {
   "cell_type": "code",
   "execution_count": null,
   "id": "5119927a-46db-4d25-8039-45d2a61b84d4",
   "metadata": {},
   "outputs": [],
   "source": [
    "#Question39"
   ]
  },
  {
   "cell_type": "code",
   "execution_count": 38,
   "id": "7293cd89-150f-4dba-8245-37d0739d0df1",
   "metadata": {},
   "outputs": [
    {
     "name": "stdout",
     "output_type": "stream",
     "text": [
      "[1, 2, 6, 24, 120, 720, 5040, 40320, 362880, 3628800]\n"
     ]
    }
   ],
   "source": [
    "factorials = []\n",
    "result = 1\n",
    "for i in range(1,11):\n",
    "    result *= i\n",
    "    factorials.append(result)\n",
    "    \n",
    "print(factorials)"
   ]
  },
  {
   "cell_type": "code",
   "execution_count": null,
   "id": "84fed55e-50b2-4f19-af63-8770f35e045c",
   "metadata": {},
   "outputs": [],
   "source": [
    "#Question40"
   ]
  },
  {
   "cell_type": "code",
   "execution_count": 37,
   "id": "896934f3-48a6-4537-a55c-16388b692ccd",
   "metadata": {},
   "outputs": [
    {
     "name": "stdout",
     "output_type": "stream",
     "text": [
      "True\n"
     ]
    }
   ],
   "source": [
    "def common_element(list1,list2):\n",
    "    result = False\n",
    "    \n",
    "    for x in list1:\n",
    "        for y in list2:\n",
    "            if x == y:\n",
    "                result = True\n",
    "                return result\n",
    "    return result\n",
    "\n",
    "print(common_element(a,b)) \n",
    "a = [1,2,3,4,5]\n",
    "b = [5,6,7,8,9]\n",
    "           "
   ]
  },
  {
   "cell_type": "code",
   "execution_count": null,
   "id": "25355aff-f4b6-4a9b-b136-fdc276684673",
   "metadata": {},
   "outputs": [],
   "source": [
    "#Question41"
   ]
  },
  {
   "cell_type": "code",
   "execution_count": 12,
   "id": "f6615277-93db-40d7-b876-39823d62d215",
   "metadata": {},
   "outputs": [
    {
     "name": "stdout",
     "output_type": "stream",
     "text": [
      "list before removal of elements:  [1, 2, 3, 4, 5]\n",
      "list after removal of elements:  []\n"
     ]
    }
   ],
   "source": [
    "list1 = [1,2,3,4,5]\n",
    "print(\"list before removal of elements: \",list1)\n",
    "list1.clear()\n",
    "print(\"list after removal of elements: \",list1)"
   ]
  },
  {
   "cell_type": "code",
   "execution_count": null,
   "id": "5e6dfe36-5914-4e26-89a8-c66b3f8eb425",
   "metadata": {},
   "outputs": [],
   "source": [
    "#Question42"
   ]
  },
  {
   "cell_type": "code",
   "execution_count": 2,
   "id": "52dbe6b3-0b03-48ce-9f63-5688245b59fa",
   "metadata": {},
   "outputs": [
    {
     "data": {
      "text/plain": [
       "[3, 0, 4, 5, 0]"
      ]
     },
     "execution_count": 2,
     "metadata": {},
     "output_type": "execute_result"
    }
   ],
   "source": [
    "def funct1(old_list):\n",
    "    new_list = []\n",
    "    for num in old_list:\n",
    "        if num < 0:\n",
    "            new_list.append(0)\n",
    "        else:\n",
    "            new_list.append(num)\n",
    "    return new_list\n",
    "\n",
    "funct1([3,-7,4,5,-1])"
   ]
  },
  {
   "cell_type": "code",
   "execution_count": null,
   "id": "a81013da-1fcc-4af7-a5db-2645d5437602",
   "metadata": {},
   "outputs": [],
   "source": [
    "#Question43"
   ]
  },
  {
   "cell_type": "code",
   "execution_count": 3,
   "id": "5011216e-ffc2-4a9b-9413-084ed4dce8e7",
   "metadata": {},
   "outputs": [
    {
     "name": "stdout",
     "output_type": "stream",
     "text": [
      "['p', 'w', 's', 'k', 'i', 'l', 'l', 's']\n"
     ]
    }
   ],
   "source": [
    "str1 = \"pwskills\"\n",
    "list1 = list(str1)\n",
    "print(list1)"
   ]
  },
  {
   "cell_type": "code",
   "execution_count": null,
   "id": "85cd224f-d654-4233-b92e-307b8ac1356b",
   "metadata": {},
   "outputs": [],
   "source": [
    "#Question44"
   ]
  },
  {
   "cell_type": "code",
   "execution_count": 5,
   "id": "a3d5ef0b-6337-4639-afa5-3e3e3099a1d0",
   "metadata": {},
   "outputs": [
    {
     "name": "stdout",
     "output_type": "stream",
     "text": [
      "['we', 'are', 'learning', 'python']\n"
     ]
    },
    {
     "data": {
      "text/plain": [
       "'we are learning python'"
      ]
     },
     "execution_count": 5,
     "metadata": {},
     "output_type": "execute_result"
    }
   ],
   "source": [
    "list1 = ['we','are','learning','python']\n",
    "print(list1)\n",
    "' '.join(list1)"
   ]
  },
  {
   "cell_type": "code",
   "execution_count": null,
   "id": "b3ab4bc3-c6bb-4ddb-b6e5-1b21fc3396df",
   "metadata": {},
   "outputs": [],
   "source": [
    "#Question45"
   ]
  },
  {
   "cell_type": "code",
   "execution_count": 23,
   "id": "366eaa1b-2039-4862-889e-158fe3b0e556",
   "metadata": {},
   "outputs": [
    {
     "name": "stdout",
     "output_type": "stream",
     "text": [
      "[2, 4, 8, 16, 32]\n"
     ]
    }
   ],
   "source": [
    "def squares(n):\n",
    "    power = n\n",
    "    square_list = []\n",
    "    for i in range(1,n+1):\n",
    "        square_list.append(2**i)\n",
    "    return square_list\n",
    "\n",
    "print(squares(5))"
   ]
  },
  {
   "cell_type": "code",
   "execution_count": null,
   "id": "d5b49bf9-595d-434b-adc6-be8695dbed1a",
   "metadata": {},
   "outputs": [],
   "source": [
    "#Question46"
   ]
  },
  {
   "cell_type": "code",
   "execution_count": 10,
   "id": "dc37d4a5-a7d5-4d57-8f64-b362b18399c4",
   "metadata": {},
   "outputs": [
    {
     "name": "stdout",
     "output_type": "stream",
     "text": [
      "The original list : ['abc', 'ab', 'abcd', 'ads', 'abcde']\n",
      "Maximum length string is : abcde\n"
     ]
    }
   ],
   "source": [
    "list1 = ['abc', 'ab', 'abcd', 'ads', 'abcde']\n",
    "print(\"The original list : \" + str(list1))\n",
    "max_len = -1\n",
    "for ele in list1:\n",
    "    if len(ele) > max_len:\n",
    "        res = ele\n",
    "print(\"Maximum length string is : \"+ res)"
   ]
  },
  {
   "cell_type": "code",
   "execution_count": null,
   "id": "30506616-f8f6-4320-964d-6101ad212f38",
   "metadata": {},
   "outputs": [],
   "source": [
    "#Question47"
   ]
  },
  {
   "cell_type": "code",
   "execution_count": 16,
   "id": "bdf78cbe-9159-4a83-820c-85a13bd4a8e5",
   "metadata": {},
   "outputs": [
    {
     "name": "stdout",
     "output_type": "stream",
     "text": [
      "The original list : ['abc', 'ab', 'abcd', 'ads', 'abcde']\n",
      "Minimum length string is : 2\n"
     ]
    }
   ],
   "source": [
    "list1 = ['abc', 'ab', 'abcd', 'ads', 'abcde']\n",
    "print(\"The original list : \" + str(list1))\n",
    "min_len = len(list1[0])\n",
    "for i in range(1,len(list1)):\n",
    "    if len(list1[i]) < min_len:\n",
    "        min_length = len(list1[i])\n",
    "    \n",
    "print(\"Minimum length string is : \"+ str(min_length))"
   ]
  },
  {
   "cell_type": "code",
   "execution_count": null,
   "id": "761682ac-8cd7-4dc9-828f-863dcfe942cb",
   "metadata": {},
   "outputs": [],
   "source": [
    "#Question48"
   ]
  },
  {
   "cell_type": "code",
   "execution_count": 18,
   "id": "32f646ca-8790-49f9-952c-e52f26b0a2b8",
   "metadata": {},
   "outputs": [
    {
     "name": "stdout",
     "output_type": "stream",
     "text": [
      "1 3 6 10 15 "
     ]
    }
   ],
   "source": [
    "def triangular_series(n):\n",
    "    j = 1\n",
    "    k = 1\n",
    "    \n",
    "    for i in range(1, n+1):\n",
    "        print(k, end = ' ')\n",
    "        j = j+1\n",
    "        \n",
    "        k = k+j\n",
    "        \n",
    "triangular_series(5)"
   ]
  },
  {
   "cell_type": "code",
   "execution_count": null,
   "id": "1e9fc0c4-8551-48f8-a9b8-ee8398083d88",
   "metadata": {},
   "outputs": [],
   "source": [
    "#Question49"
   ]
  },
  {
   "cell_type": "code",
   "execution_count": 19,
   "id": "2f404da2-126d-4eae-918c-8b70dfbcce5c",
   "metadata": {},
   "outputs": [
    {
     "name": "stdout",
     "output_type": "stream",
     "text": [
      "List A is part of List B\n"
     ]
    }
   ],
   "source": [
    "listA = ['x','y','t']\n",
    "listB = ['x','y','t','a','z','t']\n",
    "\n",
    "n = len(listA)\n",
    "res = any(listA == listB[i:i+n] for i in range(len(listB)-n+1))\n",
    "\n",
    "if res :\n",
    "    print(\"List A is part of List B\")\n",
    "else:\n",
    "    print(\"List A is not a part of List B\")"
   ]
  },
  {
   "cell_type": "code",
   "execution_count": null,
   "id": "88633d08-288b-4972-8ab4-bfbce49b6bf0",
   "metadata": {},
   "outputs": [],
   "source": [
    "#Question50"
   ]
  },
  {
   "cell_type": "code",
   "execution_count": 20,
   "id": "170e52cc-f283-40ff-9f81-e042691a618c",
   "metadata": {},
   "outputs": [
    {
     "name": "stdout",
     "output_type": "stream",
     "text": [
      "List of fruits before swap :\n",
      "['java', 'dsa', 'AI']\n",
      "List of fruits after swap :\n",
      "['AI', 'dsa', 'java']\n"
     ]
    }
   ],
   "source": [
    "fruits = [\"java\",\"dsa\",\"AI\"]\n",
    "print(\"List of fruits before swap :\")\n",
    "print(fruits)\n",
    "\n",
    "fruits[0] , fruits[2] = fruits[2] , fruits[0]\n",
    "print(\"List of fruits after swap :\")\n",
    "print(fruits)"
   ]
  },
  {
   "cell_type": "code",
   "execution_count": 21,
   "id": "f60a9df4-f98f-425e-a7dc-60401d9dd740",
   "metadata": {},
   "outputs": [],
   "source": [
    "#TUPLE BASED QUESTIONS"
   ]
  },
  {
   "cell_type": "code",
   "execution_count": 22,
   "id": "1f6b9403-7cd3-4e4b-b917-fa71888dd3eb",
   "metadata": {},
   "outputs": [],
   "source": [
    "#Question1"
   ]
  },
  {
   "cell_type": "code",
   "execution_count": 25,
   "id": "050cd09d-cab9-457e-9ffb-e2371e076000",
   "metadata": {},
   "outputs": [],
   "source": [
    "t =(1,2,3,4,5)"
   ]
  },
  {
   "cell_type": "code",
   "execution_count": 26,
   "id": "6b7e7a5f-f1a9-4458-9bcf-901f74794461",
   "metadata": {},
   "outputs": [
    {
     "data": {
      "text/plain": [
       "(1, 2, 3, 4, 5)"
      ]
     },
     "execution_count": 26,
     "metadata": {},
     "output_type": "execute_result"
    }
   ],
   "source": [
    "t"
   ]
  },
  {
   "cell_type": "code",
   "execution_count": 27,
   "id": "037da408-e030-49c0-89d7-13cb22780d1d",
   "metadata": {},
   "outputs": [],
   "source": [
    "#Question2"
   ]
  },
  {
   "cell_type": "code",
   "execution_count": 4,
   "id": "a15b4eed-f351-4daf-99c6-c9fe24e972dc",
   "metadata": {},
   "outputs": [],
   "source": [
    "t1=(1,2,3,4,5)"
   ]
  },
  {
   "cell_type": "code",
   "execution_count": 5,
   "id": "3153d0af-6251-48f7-84b2-473aed420c64",
   "metadata": {},
   "outputs": [
    {
     "data": {
      "text/plain": [
       "3"
      ]
     },
     "execution_count": 5,
     "metadata": {},
     "output_type": "execute_result"
    }
   ],
   "source": [
    "t1[2]"
   ]
  },
  {
   "cell_type": "code",
   "execution_count": null,
   "id": "1b06da91-9020-49b9-a97c-0b78dca44d10",
   "metadata": {},
   "outputs": [],
   "source": [
    "#Question3"
   ]
  },
  {
   "cell_type": "code",
   "execution_count": 8,
   "id": "aa310ac5-d967-4eae-99ef-fadbee91240d",
   "metadata": {},
   "outputs": [
    {
     "name": "stdout",
     "output_type": "stream",
     "text": [
      "5\n"
     ]
    }
   ],
   "source": [
    "t1 = (3,4,2,6,1)\n",
    "count = 0\n",
    "for i in t1:\n",
    "    count = count+1\n",
    "print(count)"
   ]
  },
  {
   "cell_type": "code",
   "execution_count": null,
   "id": "01fdfc34-50a5-4548-a559-852bae594323",
   "metadata": {},
   "outputs": [],
   "source": [
    "#Question4"
   ]
  },
  {
   "cell_type": "code",
   "execution_count": 9,
   "id": "fd49448f-aad1-4e7b-9fc3-bccc9bc99c59",
   "metadata": {},
   "outputs": [
    {
     "name": "stdout",
     "output_type": "stream",
     "text": [
      "4\n"
     ]
    }
   ],
   "source": [
    "t1 = (1,2,3,4,5,3,4,5,3,3,5)\n",
    "t2 = t1.count(3)\n",
    "print(t2)"
   ]
  },
  {
   "cell_type": "code",
   "execution_count": null,
   "id": "6b37d66a-59a1-4ac6-a907-7f0221ba573e",
   "metadata": {},
   "outputs": [],
   "source": [
    "#Question5"
   ]
  },
  {
   "cell_type": "code",
   "execution_count": 11,
   "id": "0892fd51-6f33-4dc8-82e1-93e3763558cf",
   "metadata": {},
   "outputs": [
    {
     "name": "stdout",
     "output_type": "stream",
     "text": [
      "2\n"
     ]
    }
   ],
   "source": [
    "t1 = (1,2,9,4,5,3,4,9,5,3,3,5)\n",
    "t2 = t1.index(9)\n",
    "print(t2)"
   ]
  },
  {
   "cell_type": "code",
   "execution_count": null,
   "id": "82a25e9e-6204-44b5-aed7-64f2403842a0",
   "metadata": {},
   "outputs": [],
   "source": [
    "#Question6"
   ]
  },
  {
   "cell_type": "code",
   "execution_count": 15,
   "id": "72898e85-2b60-4861-ba59-8d99bb5dabc0",
   "metadata": {},
   "outputs": [
    {
     "name": "stdout",
     "output_type": "stream",
     "text": [
      "True\n"
     ]
    }
   ],
   "source": [
    "t1 = (1,3,4,5)\n",
    "t2 = 3 in t1\n",
    "print(t2)"
   ]
  },
  {
   "cell_type": "code",
   "execution_count": 30,
   "id": "f352e3f2-b05f-4aa6-a064-7e0171ac4e98",
   "metadata": {},
   "outputs": [],
   "source": [
    "#Question7"
   ]
  },
  {
   "cell_type": "code",
   "execution_count": 16,
   "id": "1a83f54e-31e3-4ca4-a948-0cf930f6dbfc",
   "metadata": {},
   "outputs": [],
   "source": [
    "t=(1,2,3,4,5)"
   ]
  },
  {
   "cell_type": "code",
   "execution_count": 17,
   "id": "9b1cf50c-1973-4716-a496-576a3f7488a2",
   "metadata": {},
   "outputs": [
    {
     "data": {
      "text/plain": [
       "(1, 2, 3, 4, 5)"
      ]
     },
     "execution_count": 17,
     "metadata": {},
     "output_type": "execute_result"
    }
   ],
   "source": [
    "t"
   ]
  },
  {
   "cell_type": "code",
   "execution_count": 18,
   "id": "5ab0575a-ff80-40fe-9a9c-42f0b24b3c74",
   "metadata": {},
   "outputs": [
    {
     "name": "stdout",
     "output_type": "stream",
     "text": [
      "[1, 2, 3, 4, 5]\n"
     ]
    }
   ],
   "source": [
    "t1 = list(t)\n",
    "print(t1)"
   ]
  },
  {
   "cell_type": "code",
   "execution_count": null,
   "id": "8afc5d06-fcbd-4f58-a509-93a41b6c66bc",
   "metadata": {},
   "outputs": [],
   "source": [
    "#Question8"
   ]
  },
  {
   "cell_type": "code",
   "execution_count": 35,
   "id": "250056c1-def1-45e9-a8ef-a0ad4366b7b4",
   "metadata": {},
   "outputs": [],
   "source": [
    "lst = [1,2,3,4,5]"
   ]
  },
  {
   "cell_type": "code",
   "execution_count": 36,
   "id": "c9ceac78-5d73-4111-9475-cc6876a577e2",
   "metadata": {},
   "outputs": [
    {
     "data": {
      "text/plain": [
       "[1, 2, 3, 4, 5]"
      ]
     },
     "execution_count": 36,
     "metadata": {},
     "output_type": "execute_result"
    }
   ],
   "source": [
    "lst"
   ]
  },
  {
   "cell_type": "code",
   "execution_count": 37,
   "id": "2855e4a9-62f4-4876-b112-5e9e8e6637b4",
   "metadata": {},
   "outputs": [
    {
     "data": {
      "text/plain": [
       "(1, 2, 3, 4, 5)"
      ]
     },
     "execution_count": 37,
     "metadata": {},
     "output_type": "execute_result"
    }
   ],
   "source": [
    "tuple(lst)"
   ]
  },
  {
   "cell_type": "code",
   "execution_count": null,
   "id": "406ab93c-5f2f-40b9-887a-75e568ed4b25",
   "metadata": {},
   "outputs": [],
   "source": [
    "#Question9"
   ]
  },
  {
   "cell_type": "code",
   "execution_count": 19,
   "id": "a203c1e1-b6f0-4215-bc50-b7be6b9152e9",
   "metadata": {},
   "outputs": [
    {
     "name": "stdout",
     "output_type": "stream",
     "text": [
      "chess\n",
      "ludo\n",
      "hockey\n"
     ]
    }
   ],
   "source": [
    "game = ('chess','ludo','hockey')\n",
    "(game1,game2,game3) = game\n",
    "\n",
    "print(game1)\n",
    "print(game2)\n",
    "print(game3)"
   ]
  },
  {
   "cell_type": "code",
   "execution_count": null,
   "id": "082314fe-707b-4421-8364-503c95c9bdf7",
   "metadata": {},
   "outputs": [],
   "source": [
    "#Question10"
   ]
  },
  {
   "cell_type": "code",
   "execution_count": 21,
   "id": "234ee6fc-98cd-4119-ab17-1c77531399b8",
   "metadata": {},
   "outputs": [
    {
     "name": "stdout",
     "output_type": "stream",
     "text": [
      "(2, 4, 6, 8, 10)\n"
     ]
    }
   ],
   "source": [
    "t1 = tuple(range(2,11,2))\n",
    "print(t1)"
   ]
  },
  {
   "cell_type": "code",
   "execution_count": null,
   "id": "f8cc7c2c-3b22-49ef-8883-4ca396640add",
   "metadata": {},
   "outputs": [],
   "source": [
    "#Question11"
   ]
  },
  {
   "cell_type": "code",
   "execution_count": 22,
   "id": "94751982-a38e-451e-86d2-35ece4673e07",
   "metadata": {},
   "outputs": [
    {
     "name": "stdout",
     "output_type": "stream",
     "text": [
      "(1, 3, 5, 7, 9)\n"
     ]
    }
   ],
   "source": [
    "t2 = tuple(range(1,10,2))\n",
    "print(t2)"
   ]
  },
  {
   "cell_type": "code",
   "execution_count": 38,
   "id": "820d5fa7-63a0-4687-a2a6-2bbb623b4c7c",
   "metadata": {},
   "outputs": [],
   "source": [
    "#Question12"
   ]
  },
  {
   "cell_type": "code",
   "execution_count": 39,
   "id": "393e1223-fca7-4fd1-b9e1-66bb17066eab",
   "metadata": {},
   "outputs": [],
   "source": [
    "t1=(1,2,3)"
   ]
  },
  {
   "cell_type": "code",
   "execution_count": 40,
   "id": "ad2ef5ce-4993-46ee-a6c8-f4770e935d41",
   "metadata": {},
   "outputs": [],
   "source": [
    "t2=(4,5,6)"
   ]
  },
  {
   "cell_type": "code",
   "execution_count": 41,
   "id": "f1fdfb24-768a-4de1-8706-88366559b3e3",
   "metadata": {},
   "outputs": [
    {
     "data": {
      "text/plain": [
       "(1, 2, 3, 4, 5, 6)"
      ]
     },
     "execution_count": 41,
     "metadata": {},
     "output_type": "execute_result"
    }
   ],
   "source": [
    "t1+t2"
   ]
  },
  {
   "cell_type": "code",
   "execution_count": 42,
   "id": "c24f34fb-2f09-4966-84fc-552de2219f10",
   "metadata": {},
   "outputs": [],
   "source": [
    "#Question13"
   ]
  },
  {
   "cell_type": "code",
   "execution_count": 43,
   "id": "a0e8e126-e7f1-48cc-b9b0-755cec85950b",
   "metadata": {},
   "outputs": [],
   "source": [
    "t=(1,2,3,4,5)"
   ]
  },
  {
   "cell_type": "code",
   "execution_count": 23,
   "id": "eb594144-937d-46bb-92f5-68a746c4b8a4",
   "metadata": {},
   "outputs": [
    {
     "name": "stdout",
     "output_type": "stream",
     "text": [
      "(1, 2, 3, 4, 5, 1, 2, 3, 4, 5, 1, 2, 3, 4, 5)\n"
     ]
    }
   ],
   "source": [
    "t1 = t*3\n",
    "print(t1)"
   ]
  },
  {
   "cell_type": "code",
   "execution_count": null,
   "id": "6aaa4b19-2453-4db9-9964-5d75cc065954",
   "metadata": {},
   "outputs": [],
   "source": [
    "#Question14"
   ]
  },
  {
   "cell_type": "code",
   "execution_count": 25,
   "id": "c2462c00-328a-42dd-8903-a10aac33eec6",
   "metadata": {},
   "outputs": [
    {
     "name": "stdout",
     "output_type": "stream",
     "text": [
      "The given tuple is empty\n"
     ]
    }
   ],
   "source": [
    "my_tuple = ()\n",
    "\n",
    "if not my_tuple:\n",
    "    print(\"The given tuple is empty\")\n",
    "else:\n",
    "    print(\"The given tuple is not empty\")"
   ]
  },
  {
   "cell_type": "code",
   "execution_count": 45,
   "id": "5d058eac-2602-401d-9ac2-e44b08ed3481",
   "metadata": {},
   "outputs": [],
   "source": [
    "#Question15"
   ]
  },
  {
   "cell_type": "code",
   "execution_count": 46,
   "id": "d57bb397-349f-4760-8035-30cd6dbe8783",
   "metadata": {},
   "outputs": [],
   "source": [
    "t1=(1,2,3,(4,5,6))"
   ]
  },
  {
   "cell_type": "code",
   "execution_count": 47,
   "id": "11b1da01-79f8-4acc-8393-fc6e0941cc8f",
   "metadata": {},
   "outputs": [
    {
     "data": {
      "text/plain": [
       "(1, 2, 3, (4, 5, 6))"
      ]
     },
     "execution_count": 47,
     "metadata": {},
     "output_type": "execute_result"
    }
   ],
   "source": [
    "t1"
   ]
  },
  {
   "cell_type": "code",
   "execution_count": 48,
   "id": "3a3bae23-4846-4c6d-b8b7-f7209d70823b",
   "metadata": {},
   "outputs": [],
   "source": [
    "#Question16"
   ]
  },
  {
   "cell_type": "code",
   "execution_count": 49,
   "id": "3ae5cc30-facf-40b8-95d3-65c73121e79a",
   "metadata": {},
   "outputs": [],
   "source": [
    "t1=(6,4,3,(7,9,8))"
   ]
  },
  {
   "cell_type": "code",
   "execution_count": 50,
   "id": "37454967-6ea0-4651-946d-4d6cca8f650a",
   "metadata": {},
   "outputs": [
    {
     "data": {
      "text/plain": [
       "(6, 4, 3, (7, 9, 8))"
      ]
     },
     "execution_count": 50,
     "metadata": {},
     "output_type": "execute_result"
    }
   ],
   "source": [
    "t1"
   ]
  },
  {
   "cell_type": "code",
   "execution_count": 52,
   "id": "7879cb47-dd4e-4617-b21f-91df2e5bf5f4",
   "metadata": {},
   "outputs": [
    {
     "data": {
      "text/plain": [
       "7"
      ]
     },
     "execution_count": 52,
     "metadata": {},
     "output_type": "execute_result"
    }
   ],
   "source": [
    "t1[3][0]"
   ]
  },
  {
   "cell_type": "code",
   "execution_count": 53,
   "id": "951dc749-ff8f-4a08-9801-7f041e58e258",
   "metadata": {},
   "outputs": [],
   "source": [
    "#Question17"
   ]
  },
  {
   "cell_type": "code",
   "execution_count": 28,
   "id": "185c6c19-dec6-4248-8659-4eadac50f265",
   "metadata": {},
   "outputs": [],
   "source": [
    "t=(2,)"
   ]
  },
  {
   "cell_type": "code",
   "execution_count": 29,
   "id": "53d8ec93-7965-4d65-843e-7b9f5a55e9e0",
   "metadata": {},
   "outputs": [
    {
     "data": {
      "text/plain": [
       "(2,)"
      ]
     },
     "execution_count": 29,
     "metadata": {},
     "output_type": "execute_result"
    }
   ],
   "source": [
    "t"
   ]
  },
  {
   "cell_type": "code",
   "execution_count": null,
   "id": "6a9eef6e-d0fd-4871-89a6-0de9542c31ed",
   "metadata": {},
   "outputs": [],
   "source": [
    "#Question18"
   ]
  },
  {
   "cell_type": "code",
   "execution_count": 33,
   "id": "d1eb91ff-b4c2-4860-8d1d-a99a49ee2162",
   "metadata": {},
   "outputs": [
    {
     "name": "stdout",
     "output_type": "stream",
     "text": [
      "True\n",
      "False\n",
      "False\n"
     ]
    }
   ],
   "source": [
    "t1 = (1,2,3)\n",
    "t2 = (1,2,3)\n",
    "print(t1 == t2)\n",
    "print(t1<t2)\n",
    "print(t1>t2)"
   ]
  },
  {
   "cell_type": "code",
   "execution_count": null,
   "id": "add4dd18-b8f5-4453-b189-630b854e0aca",
   "metadata": {},
   "outputs": [],
   "source": [
    "#Question19"
   ]
  },
  {
   "cell_type": "code",
   "execution_count": 36,
   "id": "5b147370-1da6-401e-9f3e-9c55bf522a53",
   "metadata": {},
   "outputs": [
    {
     "ename": "NameError",
     "evalue": "name 't1' is not defined",
     "output_type": "error",
     "traceback": [
      "\u001b[0;31m---------------------------------------------------------------------------\u001b[0m",
      "\u001b[0;31mNameError\u001b[0m                                 Traceback (most recent call last)",
      "Cell \u001b[0;32mIn[36], line 3\u001b[0m\n\u001b[1;32m      1\u001b[0m t1 \u001b[38;5;241m=\u001b[39m (\u001b[38;5;241m1\u001b[39m,\u001b[38;5;241m2\u001b[39m,\u001b[38;5;241m3\u001b[39m)\n\u001b[1;32m      2\u001b[0m \u001b[38;5;28;01mdel\u001b[39;00m t1\n\u001b[0;32m----> 3\u001b[0m \u001b[43mt1\u001b[49m\n",
      "\u001b[0;31mNameError\u001b[0m: name 't1' is not defined"
     ]
    }
   ],
   "source": [
    "t1 = (1,2,3)\n",
    "del t1\n",
    "t1"
   ]
  },
  {
   "cell_type": "code",
   "execution_count": 56,
   "id": "4ee15a4d-9e02-4250-a447-3b374e1b545d",
   "metadata": {},
   "outputs": [],
   "source": [
    "#Question20"
   ]
  },
  {
   "cell_type": "code",
   "execution_count": 57,
   "id": "cb0a237a-4df8-4be4-96c6-1cd34614af29",
   "metadata": {},
   "outputs": [],
   "source": [
    "t1=(1,2,3,4,5,6,7,8,9)"
   ]
  },
  {
   "cell_type": "code",
   "execution_count": 58,
   "id": "2b25000b-de2f-46ff-b394-efeae09f423a",
   "metadata": {},
   "outputs": [
    {
     "data": {
      "text/plain": [
       "(1, 2, 3, 4, 5, 6, 7, 8, 9)"
      ]
     },
     "execution_count": 58,
     "metadata": {},
     "output_type": "execute_result"
    }
   ],
   "source": [
    "t1"
   ]
  },
  {
   "cell_type": "code",
   "execution_count": 59,
   "id": "5815319e-1708-44ab-8439-fec277f6496d",
   "metadata": {},
   "outputs": [
    {
     "data": {
      "text/plain": [
       "(3, 4, 5, 6)"
      ]
     },
     "execution_count": 59,
     "metadata": {},
     "output_type": "execute_result"
    }
   ],
   "source": [
    "t1[2:6]"
   ]
  },
  {
   "cell_type": "code",
   "execution_count": 60,
   "id": "0be6f3e8-bc27-4485-87fa-f1d133f387a3",
   "metadata": {},
   "outputs": [],
   "source": [
    "#Question21"
   ]
  },
  {
   "cell_type": "code",
   "execution_count": 61,
   "id": "2307cce8-97a7-4d0e-b584-8dfcda2d2059",
   "metadata": {},
   "outputs": [],
   "source": [
    "t=(2,66,4,67,1,5)"
   ]
  },
  {
   "cell_type": "code",
   "execution_count": 62,
   "id": "792cc600-793c-4f30-9be8-a38acb1df689",
   "metadata": {},
   "outputs": [
    {
     "data": {
      "text/plain": [
       "67"
      ]
     },
     "execution_count": 62,
     "metadata": {},
     "output_type": "execute_result"
    }
   ],
   "source": [
    "max(t)"
   ]
  },
  {
   "cell_type": "code",
   "execution_count": 63,
   "id": "3aa4c57b-5d47-4456-ad53-7dfd490e738d",
   "metadata": {},
   "outputs": [],
   "source": [
    "#Question22"
   ]
  },
  {
   "cell_type": "code",
   "execution_count": 64,
   "id": "6bc1ec23-ac65-4bd0-ab68-d63b898332c4",
   "metadata": {},
   "outputs": [],
   "source": [
    "t = (3,4,1,2,7,44)"
   ]
  },
  {
   "cell_type": "code",
   "execution_count": 65,
   "id": "73a7f937-1152-450d-ac71-6ab650ca5947",
   "metadata": {},
   "outputs": [
    {
     "data": {
      "text/plain": [
       "1"
      ]
     },
     "execution_count": 65,
     "metadata": {},
     "output_type": "execute_result"
    }
   ],
   "source": [
    "min(t)"
   ]
  },
  {
   "cell_type": "code",
   "execution_count": 66,
   "id": "bb4ac322-2b7c-4e6b-a140-76585249ece8",
   "metadata": {},
   "outputs": [],
   "source": [
    "#Question23"
   ]
  },
  {
   "cell_type": "code",
   "execution_count": 40,
   "id": "1b684d48-9ce4-439f-9a2e-081f72d0cb11",
   "metadata": {},
   "outputs": [
    {
     "name": "stdout",
     "output_type": "stream",
     "text": [
      "('1', ',', '2', ',', '3', ',', '\"', 'r', 'i', 'a', '\"', ',', '3', '.', '4', ',', '4', '+', '5', 'j', ',', 'T', 'r', 'u', 'e')\n"
     ]
    }
   ],
   "source": [
    "s1 = '1,2,3,\"ria\",3.4,4+5j,True'\n",
    "t1 = tuple(s1)\n",
    "print(t1)"
   ]
  },
  {
   "cell_type": "code",
   "execution_count": null,
   "id": "f05038e4-1138-4e5f-abe6-2a9bf4b608d9",
   "metadata": {},
   "outputs": [],
   "source": [
    "#Question24"
   ]
  },
  {
   "cell_type": "code",
   "execution_count": 55,
   "id": "8a7b6517-bb19-435e-aba4-b95633ebfcff",
   "metadata": {},
   "outputs": [
    {
     "name": "stdout",
     "output_type": "stream",
     "text": [
      " coding\n",
      "<class 'str'>\n"
     ]
    }
   ],
   "source": [
    "t = ('c','o','d','i','n','g')\n",
    "s = \" \"\n",
    "for items in t:\n",
    "    s = s + items\n",
    "print(s)\n",
    "print(type(s))"
   ]
  },
  {
   "cell_type": "code",
   "execution_count": null,
   "id": "5b8fa821-d1fd-4ee7-a879-1ac3012a1ee7",
   "metadata": {},
   "outputs": [],
   "source": [
    "#Question25"
   ]
  },
  {
   "cell_type": "code",
   "execution_count": 56,
   "id": "40930f13-7fa7-417f-806b-09d1b9da9dd9",
   "metadata": {},
   "outputs": [
    {
     "name": "stdout",
     "output_type": "stream",
     "text": [
      "(1, 2, 3, 'ria', 3.4, (4+5j), True, [1, 2, 3])\n"
     ]
    }
   ],
   "source": [
    "t1 = (1,2,3,\"ria\",3.4,4+5j,True,[1,2,3])\n",
    "print(t1)"
   ]
  },
  {
   "cell_type": "code",
   "execution_count": null,
   "id": "8921ce96-9540-42c2-8699-3ffa6a8ce613",
   "metadata": {},
   "outputs": [],
   "source": [
    "#Question26"
   ]
  },
  {
   "cell_type": "code",
   "execution_count": 57,
   "id": "1f52a10e-7855-4b97-adbc-88ca866a9cd2",
   "metadata": {},
   "outputs": [
    {
     "name": "stdout",
     "output_type": "stream",
     "text": [
      "False\n"
     ]
    }
   ],
   "source": [
    "t1 = (1,2,3)\n",
    "t2 = (1,2,3)\n",
    "print(t1 is t2)"
   ]
  },
  {
   "cell_type": "code",
   "execution_count": null,
   "id": "b90413da-597c-44d5-ad5a-4c719f01904e",
   "metadata": {},
   "outputs": [],
   "source": [
    "#Question27"
   ]
  },
  {
   "cell_type": "code",
   "execution_count": 61,
   "id": "2ebc708f-6dc2-4bb6-aae0-d35d59c2d0ef",
   "metadata": {},
   "outputs": [
    {
     "name": "stdout",
     "output_type": "stream",
     "text": [
      "[1, 2, 4, 5, 6, 9, 11, 33, 66]\n"
     ]
    }
   ],
   "source": [
    "t1 = (1,4,2,5,6,33,11,9,66)\n",
    "t2 = sorted(t1)\n",
    "print(t2)"
   ]
  },
  {
   "cell_type": "code",
   "execution_count": null,
   "id": "db407af4-f4dc-432d-9fa5-9e6ad6706ab2",
   "metadata": {},
   "outputs": [],
   "source": [
    "#Question28"
   ]
  },
  {
   "cell_type": "code",
   "execution_count": 8,
   "id": "d0e90807-69a5-4a69-8a85-21770df2d378",
   "metadata": {},
   "outputs": [
    {
     "name": "stdout",
     "output_type": "stream",
     "text": [
      "('1', '2', '3', '4', '5')\n"
     ]
    }
   ],
   "source": [
    "t1 = (1,2,3,4,5)\n",
    "t2 = tuple(str(i) for i in t1)\n",
    "print(t2)"
   ]
  },
  {
   "cell_type": "code",
   "execution_count": null,
   "id": "9ecf63b1-c744-4362-9151-750e0040712f",
   "metadata": {},
   "outputs": [],
   "source": [
    "#Question29"
   ]
  },
  {
   "cell_type": "code",
   "execution_count": 9,
   "id": "91e7f5c7-b415-47e7-b6f0-ba9e4c590944",
   "metadata": {},
   "outputs": [
    {
     "name": "stdout",
     "output_type": "stream",
     "text": [
      "(1, 2, 3, 4, 5)\n"
     ]
    }
   ],
   "source": [
    "t1 = ('1','2','3','4','5')\n",
    "t2 = tuple(int(i) for i in t1)\n",
    "print(t2)"
   ]
  },
  {
   "cell_type": "code",
   "execution_count": null,
   "id": "489cd64d-aef7-432c-be40-961c2663f21a",
   "metadata": {},
   "outputs": [],
   "source": [
    "#Question30"
   ]
  },
  {
   "cell_type": "code",
   "execution_count": 66,
   "id": "dbebfebb-edd2-4796-88d2-dd28a5fa2d7e",
   "metadata": {},
   "outputs": [
    {
     "name": "stdout",
     "output_type": "stream",
     "text": [
      "The first tuple, t1 : (1, 2, 3)\n",
      "The second tuple, t2 : ('a', 'b', 'c')\n",
      "The resulting tuple is, t (1, 2, 3, 'a', 'b', 'c')\n"
     ]
    }
   ],
   "source": [
    "t1 = (1,2,3)\n",
    "t2 = ('a','b','c')\n",
    "print(\"The first tuple, t1 :\",t1)\n",
    "print(\"The second tuple, t2 :\",t2)\n",
    "t = t1 + t2\n",
    "print(\"The resulting tuple is, t\",t)"
   ]
  },
  {
   "cell_type": "code",
   "execution_count": 76,
   "id": "606c0764-9234-4aed-a98e-31f00ca59115",
   "metadata": {},
   "outputs": [],
   "source": [
    "#Question31"
   ]
  },
  {
   "cell_type": "code",
   "execution_count": 10,
   "id": "63e78a73-c865-4406-a41c-66dd8b9c0681",
   "metadata": {},
   "outputs": [
    {
     "name": "stdout",
     "output_type": "stream",
     "text": [
      "(1, 2, 3, 4, 5, 6)\n"
     ]
    }
   ],
   "source": [
    "def flatten_tuple(nested_tuple):\n",
    "    flattened = []\n",
    "    for item in nested_tuple:\n",
    "        if isinstance(item,tuple):\n",
    "            flattened.extend(flatten_tuple(item))\n",
    "        else:\n",
    "            flattened.append(item)\n",
    "    return tuple(flattened)\n",
    "\n",
    "nested_tuple = ((1,2), (3, (4,5)), 6)\n",
    "flattened_tuple = flatten_tuple(nested_tuple)\n",
    "print(flattened_tuple)"
   ]
  },
  {
   "cell_type": "code",
   "execution_count": null,
   "id": "b5c83cd9-5071-47b3-9ed0-62208183780d",
   "metadata": {},
   "outputs": [],
   "source": [
    "#Question32"
   ]
  },
  {
   "cell_type": "code",
   "execution_count": 11,
   "id": "626a21e0-0681-45d0-875b-1dce06ad15c7",
   "metadata": {},
   "outputs": [
    {
     "name": "stdout",
     "output_type": "stream",
     "text": [
      "(2, 3, 5, 7, 11)\n"
     ]
    }
   ],
   "source": [
    "def is_prime(num):\n",
    "    if num <= 1:\n",
    "        return false\n",
    "    for i in range(2,int(num**0.5)+1):\n",
    "        if num % i == 0:\n",
    "            return False\n",
    "    return True\n",
    "prime_numbers = [num for num in range(2,50) if is_prime(num)]\n",
    "\n",
    "first_5_primes = tuple(prime_numbers[:5])\n",
    "print(first_5_primes)"
   ]
  },
  {
   "cell_type": "code",
   "execution_count": 74,
   "id": "041065d9-e142-4cae-987c-198ab32586b6",
   "metadata": {},
   "outputs": [],
   "source": [
    "#Question33"
   ]
  },
  {
   "cell_type": "code",
   "execution_count": 76,
   "id": "1eae13a6-7695-48d5-9afa-6341ecb7c13a",
   "metadata": {},
   "outputs": [
    {
     "name": "stdout",
     "output_type": "stream",
     "text": [
      "Tuple is palindrome\n"
     ]
    }
   ],
   "source": [
    "t =(1,2,3,2,1)\n",
    "t1=t[::-1]\n",
    "if t1 == t:\n",
    "    print(\"Tuple is palindrome\")\n",
    "else:\n",
    "    print(\"Tuple is not palindrome\")"
   ]
  },
  {
   "cell_type": "code",
   "execution_count": null,
   "id": "123155a5-3662-4b7b-b810-e80a085dbe6a",
   "metadata": {},
   "outputs": [],
   "source": [
    "#Question34"
   ]
  },
  {
   "cell_type": "code",
   "execution_count": 8,
   "id": "4988f885-983f-4a9f-a9e6-1edb291c6ca0",
   "metadata": {},
   "outputs": [
    {
     "name": "stdout",
     "output_type": "stream",
     "text": [
      "The square of integers from 1 to 50 is : (1, 4, 9, 16, 25)\n"
     ]
    }
   ],
   "source": [
    "tup = ()\n",
    "for i in range(1,6):\n",
    "    tup = tup + (i**2,)\n",
    "print(\"The square of integers from 1 to 50 is :\", tup)"
   ]
  },
  {
   "cell_type": "code",
   "execution_count": null,
   "id": "9d896b26-f34c-4923-8b8b-a775b6b8bcd2",
   "metadata": {},
   "outputs": [],
   "source": [
    "#Question35"
   ]
  },
  {
   "cell_type": "code",
   "execution_count": 31,
   "id": "f316da79-aa0b-44ea-a63d-adc7dc2dbc84",
   "metadata": {},
   "outputs": [
    {
     "name": "stdout",
     "output_type": "stream",
     "text": [
      "6\n",
      "8\n",
      "2\n",
      "88\n",
      "42\n",
      "66\n",
      "64\n"
     ]
    }
   ],
   "source": [
    "t = (1,5,6,3,8,2,88,42,3,33,66,64)\n",
    "for i in t:\n",
    "    if i%2 == 0:\n",
    "        print(i)\n",
    "    else:\n",
    "        pass"
   ]
  },
  {
   "cell_type": "code",
   "execution_count": null,
   "id": "d460b1c7-faeb-4b34-b2fa-c60803dde720",
   "metadata": {},
   "outputs": [],
   "source": [
    "#Question36"
   ]
  },
  {
   "cell_type": "code",
   "execution_count": 26,
   "id": "a3daf472-f5b3-4654-8cd9-017cc68fec2c",
   "metadata": {},
   "outputs": [
    {
     "name": "stdout",
     "output_type": "stream",
     "text": [
      "(4, 10, 14, 18)\n"
     ]
    }
   ],
   "source": [
    "tup = (2,5,7,9)\n",
    "l1 = [element * 2 for element in tup]\n",
    "tup1 = tuple(l1)\n",
    "print(tup1)"
   ]
  },
  {
   "cell_type": "code",
   "execution_count": null,
   "id": "3a7b652f-df68-4022-9955-e91a054dffe8",
   "metadata": {},
   "outputs": [],
   "source": [
    "#Question37"
   ]
  },
  {
   "cell_type": "code",
   "execution_count": 28,
   "id": "390a29ca-b288-4008-8f93-fe6321d123ae",
   "metadata": {},
   "outputs": [
    {
     "name": "stdout",
     "output_type": "stream",
     "text": [
      "(11, 50, 16, 39, 4)\n"
     ]
    }
   ],
   "source": [
    "import random\n",
    "\n",
    "random_numbers = tuple(random.randint(1,50)for i in range(5))\n",
    "print(random_numbers)"
   ]
  },
  {
   "cell_type": "code",
   "execution_count": null,
   "id": "3dd7345d-60be-4914-8e2b-f2bc1255bcf4",
   "metadata": {},
   "outputs": [],
   "source": [
    "#Question38"
   ]
  },
  {
   "cell_type": "code",
   "execution_count": 35,
   "id": "c196e48a-7662-43a0-b803-bdefcd22b2b8",
   "metadata": {},
   "outputs": [
    {
     "name": "stdout",
     "output_type": "stream",
     "text": [
      "True\n"
     ]
    }
   ],
   "source": [
    "def is_tuple_sorted(t):\n",
    "    for i in range(1, len(t)):\n",
    "        if t[i] < t[i-1]:\n",
    "            return False\n",
    "        else:\n",
    "            return True\n",
    "\n",
    "t = (1,2,3,4,5)\n",
    "print(is_tuple_sorted(t))\n"
   ]
  },
  {
   "cell_type": "code",
   "execution_count": null,
   "id": "b324a149-098d-48df-97b3-ffb314cd18a2",
   "metadata": {},
   "outputs": [],
   "source": [
    "#Question39"
   ]
  },
  {
   "cell_type": "code",
   "execution_count": 3,
   "id": "d4c7aeb2-8c4d-4a4c-8e81-154e8d628076",
   "metadata": {},
   "outputs": [
    {
     "name": "stdout",
     "output_type": "stream",
     "text": [
      "Original tuple : (1, 4, 6, 7, 2)\n",
      "Tuple after left rotate by 3 : (7, 2, 1, 4, 6)\n"
     ]
    }
   ],
   "source": [
    "tuple1 = (1,4,6,7,2)\n",
    "print(\"Original tuple :\" , tuple(tuple1))\n",
    "tuple1 = tuple1[3:] + tuple1[:3]\n",
    "print(\"Tuple after left rotate by 3 :\" ,tuple(tuple1))"
   ]
  },
  {
   "cell_type": "code",
   "execution_count": null,
   "id": "cd22d8da-f073-489e-b014-779326c0c9b8",
   "metadata": {},
   "outputs": [],
   "source": [
    "#Question40"
   ]
  },
  {
   "cell_type": "code",
   "execution_count": 5,
   "id": "8333dc78-872a-4bbb-a942-7de5cb3106ff",
   "metadata": {},
   "outputs": [
    {
     "name": "stdout",
     "output_type": "stream",
     "text": [
      "Original tuple : (1, 4, 6, 7, 2)\n",
      "Tuple after right rotate by 3 : (6, 7, 2, 1, 4)\n"
     ]
    }
   ],
   "source": [
    "tuple1 = (1,4,6,7,2)\n",
    "print(\"Original tuple :\" , tuple(tuple1))\n",
    "tuple1 = tuple1[-3:] + tuple1[:-3]\n",
    "print(\"Tuple after right rotate by 3 :\" ,tuple(tuple1))"
   ]
  },
  {
   "cell_type": "code",
   "execution_count": null,
   "id": "556f1828-3594-4758-b6b8-ae51594df669",
   "metadata": {},
   "outputs": [],
   "source": [
    "#Question41"
   ]
  },
  {
   "cell_type": "code",
   "execution_count": 9,
   "id": "aa2ec6e6-3823-44ad-99ee-b7ef42683497",
   "metadata": {},
   "outputs": [
    {
     "name": "stdout",
     "output_type": "stream",
     "text": [
      "(0, 1, 1, 2, 3)\n"
     ]
    }
   ],
   "source": [
    "def gen_fibonacci(n):\n",
    "    if n <= 1:\n",
    "        return n\n",
    "    else:\n",
    "        return gen_fibonacci(n-1) + gen_fibonacci(n-2)\n",
    "    \n",
    "first_10_fibonacci = tuple([gen_fibonacci(i) for i in range(5)])\n",
    "print(first_10_fibonacci)"
   ]
  },
  {
   "cell_type": "code",
   "execution_count": null,
   "id": "740a55e3-4bdf-437d-81a1-17e11bf27dcc",
   "metadata": {},
   "outputs": [],
   "source": [
    "#Question42"
   ]
  },
  {
   "cell_type": "code",
   "execution_count": 9,
   "id": "ae205e41-9ee9-40bf-b5bb-b1856ba8843f",
   "metadata": {},
   "outputs": [
    {
     "name": "stdin",
     "output_type": "stream",
     "text": [
      "Enter elements separated by spaces 2 3 4 5\n"
     ]
    },
    {
     "name": "stdout",
     "output_type": "stream",
     "text": [
      "Tuple created : ('2', '3', '4', '5')\n"
     ]
    }
   ],
   "source": [
    "input_string = input(\"Enter elements separated by spaces\")\n",
    "user_tuple = tuple(input_string.split())\n",
    "print(\"Tuple created :\",user_tuple)"
   ]
  },
  {
   "cell_type": "code",
   "execution_count": null,
   "id": "56f6e42f-cbf5-4b7d-b399-49591b8796a3",
   "metadata": {},
   "outputs": [],
   "source": [
    "#Question43"
   ]
  },
  {
   "cell_type": "code",
   "execution_count": 10,
   "id": "15ee2a33-2c08-415f-afe1-bf846c91c938",
   "metadata": {},
   "outputs": [
    {
     "name": "stdout",
     "output_type": "stream",
     "text": [
      "(2, 1, 3, 4)\n"
     ]
    }
   ],
   "source": [
    "tuple1 = (1,2,3,4)\n",
    "list1 = list(tuple1)\n",
    "list1[0],list1[1] = list1[1],list1[0]\n",
    "new_tuple = tuple(list1)\n",
    "print(new_tuple)"
   ]
  },
  {
   "cell_type": "code",
   "execution_count": 77,
   "id": "b6fcb79b-c1c6-4cea-8322-11b31e91e8a9",
   "metadata": {},
   "outputs": [],
   "source": [
    "#Question44"
   ]
  },
  {
   "cell_type": "code",
   "execution_count": 38,
   "id": "751d22b0-15cc-4796-8bfe-2a0a25d85d6a",
   "metadata": {},
   "outputs": [
    {
     "name": "stdout",
     "output_type": "stream",
     "text": [
      "(8, 7, 3, 5, 1)\n"
     ]
    }
   ],
   "source": [
    "t = (1,5,3,7,8)\n",
    "t2 = t[::-1]\n",
    "print(t2)"
   ]
  },
  {
   "cell_type": "code",
   "execution_count": null,
   "id": "27f8c740-084a-434f-93c7-fa760a7b5d6a",
   "metadata": {},
   "outputs": [],
   "source": [
    "#Question45"
   ]
  },
  {
   "cell_type": "code",
   "execution_count": 11,
   "id": "29292d7f-e9e5-488a-9b66-a58b27d17179",
   "metadata": {},
   "outputs": [
    {
     "name": "stdout",
     "output_type": "stream",
     "text": [
      "(1, 2, 4, 8, 16)\n"
     ]
    }
   ],
   "source": [
    "n = 5\n",
    "powers_of_2 = tuple(pow(2,i)for i in range(n))\n",
    "\n",
    "print(powers_of_2)"
   ]
  },
  {
   "cell_type": "code",
   "execution_count": null,
   "id": "d3c0ff9f-c8d8-490f-95cc-14f8cbaaf831",
   "metadata": {},
   "outputs": [],
   "source": [
    "#Question46"
   ]
  },
  {
   "cell_type": "code",
   "execution_count": 12,
   "id": "6d95f333-bd4a-4b28-b3af-8bb9b1a1be8c",
   "metadata": {},
   "outputs": [
    {
     "name": "stdout",
     "output_type": "stream",
     "text": [
      "The original tuple : ('abc', 'ab', 'abcd', 'abd', 'abcde')\n",
      "Maximum length string in tuple is : abcde\n"
     ]
    }
   ],
   "source": [
    "tuple1 = ('abc','ab','abcd','abd','abcde')\n",
    "print(\"The original tuple :\",tuple1)\n",
    "max_len = -1\n",
    "for ele in tuple1:\n",
    "    if len(ele) > max_len:\n",
    "        res = ele\n",
    "print(\"Maximum length string in tuple is :\",res)"
   ]
  },
  {
   "cell_type": "code",
   "execution_count": null,
   "id": "46efeb0d-619c-4f20-a36e-86b2a08b0fed",
   "metadata": {},
   "outputs": [],
   "source": [
    "#Question47"
   ]
  },
  {
   "cell_type": "code",
   "execution_count": 16,
   "id": "b0bed83f-9629-4072-bb90-5fe1e819dade",
   "metadata": {},
   "outputs": [
    {
     "name": "stdout",
     "output_type": "stream",
     "text": [
      "ab\n"
     ]
    }
   ],
   "source": [
    "tuple1 = ('abc','ab','abcd','abd','abcde')\n",
    "shortest_string = min(tuple1,key = len)\n",
    "print(shortest_string)"
   ]
  },
  {
   "cell_type": "code",
   "execution_count": null,
   "id": "014e1d07-1e65-48b3-bab7-c2d6185a19a4",
   "metadata": {},
   "outputs": [],
   "source": [
    "#Question48"
   ]
  },
  {
   "cell_type": "code",
   "execution_count": 17,
   "id": "a8aee25a-778f-4261-91c8-696b8f82c025",
   "metadata": {},
   "outputs": [
    {
     "name": "stdout",
     "output_type": "stream",
     "text": [
      "(1, 3, 6, 10, 15)\n"
     ]
    }
   ],
   "source": [
    "n = 5\n",
    "triangular_numbers = tuple((i*(i + 1)) // 2 for i in range(1,n+1))\n",
    "\n",
    "print(triangular_numbers)"
   ]
  },
  {
   "cell_type": "code",
   "execution_count": null,
   "id": "a3e0c0f5-61b2-4dc3-a50e-ef6a04d59900",
   "metadata": {},
   "outputs": [],
   "source": [
    "#Question49"
   ]
  },
  {
   "cell_type": "code",
   "execution_count": 20,
   "id": "0829b61e-82d3-43c4-b46a-8916d9a52631",
   "metadata": {},
   "outputs": [
    {
     "name": "stdout",
     "output_type": "stream",
     "text": [
      "First tuple : (1, 2, 3, 4, 5)\n",
      "Second tuple : (2, 4)\n",
      "True\n"
     ]
    }
   ],
   "source": [
    "tuple1 = (1,2,3,4,5)\n",
    "tuple2 = (2,4)\n",
    "\n",
    "print(\"First tuple :\",tuple1)\n",
    "print(\"Second tuple :\",tuple2)\n",
    "\n",
    "res = set(tuple2).issubset(tuple1)\n",
    "print(res)"
   ]
  },
  {
   "cell_type": "code",
   "execution_count": null,
   "id": "c4cf4860-30a9-4196-b7b5-4fda5504f85c",
   "metadata": {},
   "outputs": [],
   "source": [
    "#Question50"
   ]
  },
  {
   "cell_type": "code",
   "execution_count": 21,
   "id": "c9d3bc9d-92cf-4911-9980-65c9ddd7a1f3",
   "metadata": {},
   "outputs": [
    {
     "name": "stdout",
     "output_type": "stream",
     "text": [
      "(1, 0, 1, 0, 1, 0, 1, 0, 1, 0)\n"
     ]
    }
   ],
   "source": [
    "n = 10\n",
    "alternating_tuple = tuple(1 if i%2==0 else 0 for i in range(n))\n",
    "print(alternating_tuple)"
   ]
  },
  {
   "cell_type": "code",
   "execution_count": 39,
   "id": "06a70de0-a092-4ca3-ba26-ef677d03860b",
   "metadata": {},
   "outputs": [],
   "source": [
    "# Set Based Questions"
   ]
  },
  {
   "cell_type": "code",
   "execution_count": null,
   "id": "944b4b10-d0f3-44a8-b12e-50f76f8b5910",
   "metadata": {},
   "outputs": [],
   "source": [
    "#Question1"
   ]
  },
  {
   "cell_type": "code",
   "execution_count": 8,
   "id": "29bef0f0-a51f-4809-b220-51c4e2e2286d",
   "metadata": {},
   "outputs": [],
   "source": [
    "s1 = {1,2,3,4,5}"
   ]
  },
  {
   "cell_type": "code",
   "execution_count": 9,
   "id": "8006361a-b326-4b88-97f0-c0612ce2050f",
   "metadata": {},
   "outputs": [
    {
     "data": {
      "text/plain": [
       "{1, 2, 3, 4, 5}"
      ]
     },
     "execution_count": 9,
     "metadata": {},
     "output_type": "execute_result"
    }
   ],
   "source": [
    "s1"
   ]
  },
  {
   "cell_type": "code",
   "execution_count": 10,
   "id": "2151d29f-c40f-4b68-8381-2388f471df5f",
   "metadata": {},
   "outputs": [],
   "source": [
    "#Question2"
   ]
  },
  {
   "cell_type": "code",
   "execution_count": 11,
   "id": "1aee492a-36d8-41b9-bb1c-7c5850dbee3d",
   "metadata": {},
   "outputs": [],
   "source": [
    "s1 = {1,2,3,4}"
   ]
  },
  {
   "cell_type": "code",
   "execution_count": 13,
   "id": "14bb9809-81d6-4909-9c50-69009496b268",
   "metadata": {},
   "outputs": [],
   "source": [
    "s1.add(9)"
   ]
  },
  {
   "cell_type": "code",
   "execution_count": 14,
   "id": "035fc108-f0b7-415f-9e59-5a210249da6c",
   "metadata": {},
   "outputs": [
    {
     "data": {
      "text/plain": [
       "{1, 2, 3, 4, 9}"
      ]
     },
     "execution_count": 14,
     "metadata": {},
     "output_type": "execute_result"
    }
   ],
   "source": [
    "s1"
   ]
  },
  {
   "cell_type": "code",
   "execution_count": 15,
   "id": "8f2517c9-8f08-4a0c-93d1-d345d9ed75a3",
   "metadata": {},
   "outputs": [],
   "source": [
    "#Question3"
   ]
  },
  {
   "cell_type": "code",
   "execution_count": 16,
   "id": "0bbbc5fb-875a-4fde-8d5b-b9418e021e82",
   "metadata": {},
   "outputs": [],
   "source": [
    "s1 = {1,2,3}"
   ]
  },
  {
   "cell_type": "code",
   "execution_count": 17,
   "id": "747ed243-953d-4d0a-b0b5-d83c7c9f4864",
   "metadata": {},
   "outputs": [],
   "source": [
    "s1.discard(3)"
   ]
  },
  {
   "cell_type": "code",
   "execution_count": 18,
   "id": "a72d00d4-8f73-4c30-9e0e-9ffacd9a3f0f",
   "metadata": {},
   "outputs": [
    {
     "data": {
      "text/plain": [
       "{1, 2}"
      ]
     },
     "execution_count": 18,
     "metadata": {},
     "output_type": "execute_result"
    }
   ],
   "source": [
    "s1"
   ]
  },
  {
   "cell_type": "code",
   "execution_count": 19,
   "id": "2238b679-31bc-41cd-a399-f7e2b8276bfb",
   "metadata": {},
   "outputs": [],
   "source": [
    "#Question4"
   ]
  },
  {
   "cell_type": "code",
   "execution_count": 42,
   "id": "313f64fb-9b2b-4f69-b1fd-34994394253e",
   "metadata": {},
   "outputs": [
    {
     "data": {
      "text/plain": [
       "True"
      ]
     },
     "execution_count": 42,
     "metadata": {},
     "output_type": "execute_result"
    }
   ],
   "source": [
    "s1 = {1,2,3}\n",
    "2 in s1"
   ]
  },
  {
   "cell_type": "code",
   "execution_count": null,
   "id": "5f3796b8-a467-4d5d-bd49-8742a7971768",
   "metadata": {},
   "outputs": [],
   "source": [
    "#Question5"
   ]
  },
  {
   "cell_type": "code",
   "execution_count": 44,
   "id": "b82a347f-6c03-4233-8d2c-d9e5c01effaa",
   "metadata": {},
   "outputs": [
    {
     "name": "stdout",
     "output_type": "stream",
     "text": [
      "5\n"
     ]
    }
   ],
   "source": [
    "s1 = {1,2,3,4,5}\n",
    "count = 0\n",
    "for i in s1:\n",
    "    count +=1\n",
    "print(count)"
   ]
  },
  {
   "cell_type": "code",
   "execution_count": null,
   "id": "a98d739c-c279-4dff-af3e-4f5c104b14c5",
   "metadata": {},
   "outputs": [],
   "source": [
    "#Question6"
   ]
  },
  {
   "cell_type": "code",
   "execution_count": 47,
   "id": "9e318548-a933-4fd5-9ebf-f714f30bad12",
   "metadata": {},
   "outputs": [
    {
     "data": {
      "text/plain": [
       "set()"
      ]
     },
     "execution_count": 47,
     "metadata": {},
     "output_type": "execute_result"
    }
   ],
   "source": [
    "s1 = {3,2,5,6,7}\n",
    "s1.clear()\n",
    "s1"
   ]
  },
  {
   "cell_type": "code",
   "execution_count": null,
   "id": "8a55c650-4284-4795-b21e-6d98d1e0a67e",
   "metadata": {},
   "outputs": [],
   "source": [
    "#Question7"
   ]
  },
  {
   "cell_type": "code",
   "execution_count": 48,
   "id": "22c35190-328e-4947-bda0-844fa1fd34d7",
   "metadata": {},
   "outputs": [
    {
     "name": "stdout",
     "output_type": "stream",
     "text": [
      "{2, 4, 6, 8, 10}\n"
     ]
    }
   ],
   "source": [
    "s1 = set(range(2,11,2))\n",
    "print(s1)"
   ]
  },
  {
   "cell_type": "code",
   "execution_count": null,
   "id": "26cbeafa-9ab0-48f8-9b48-7642e71a5c02",
   "metadata": {},
   "outputs": [],
   "source": [
    "#Question8"
   ]
  },
  {
   "cell_type": "code",
   "execution_count": 49,
   "id": "e828899b-2f05-4857-ab2a-225f9c69d97e",
   "metadata": {},
   "outputs": [
    {
     "name": "stdout",
     "output_type": "stream",
     "text": [
      "{1, 3, 5, 7, 9}\n"
     ]
    }
   ],
   "source": [
    "s1 = set(range(1,10,2))\n",
    "print(s1)"
   ]
  },
  {
   "cell_type": "code",
   "execution_count": null,
   "id": "9245b13a-4135-4ec8-af7c-2cfb463dd250",
   "metadata": {},
   "outputs": [],
   "source": [
    "#Question9"
   ]
  },
  {
   "cell_type": "code",
   "execution_count": 50,
   "id": "9903f3c3-4d85-409c-b4e8-a4155900e0c3",
   "metadata": {},
   "outputs": [
    {
     "name": "stdout",
     "output_type": "stream",
     "text": [
      "{'yash', 'ria', 'tina', 'dolly', 'ram', 'sam'}\n"
     ]
    }
   ],
   "source": [
    "engineers = {\"ria\",\"dolly\",\"ram\",\"sam\",\"yash\"}\n",
    "managers = {\"tina\",\"ria\"}\n",
    "print(engineers | managers)"
   ]
  },
  {
   "cell_type": "code",
   "execution_count": null,
   "id": "de5c1462-e4ee-45f2-ae9e-6ca766fb96a1",
   "metadata": {},
   "outputs": [],
   "source": [
    "#Question10"
   ]
  },
  {
   "cell_type": "code",
   "execution_count": 51,
   "id": "47b98096-06a3-4912-b9c5-7fc00bbc685c",
   "metadata": {},
   "outputs": [
    {
     "name": "stdout",
     "output_type": "stream",
     "text": [
      "{'ria'}\n"
     ]
    }
   ],
   "source": [
    "engineers = {\"ria\",\"dolly\",\"ram\",\"sam\",\"yash\"}\n",
    "managers = {\"tina\",\"ria\"}\n",
    "print(engineers & managers)"
   ]
  },
  {
   "cell_type": "code",
   "execution_count": null,
   "id": "f7642110-6ac9-4e54-8c66-bb88f5f36256",
   "metadata": {},
   "outputs": [],
   "source": [
    "#Question11"
   ]
  },
  {
   "cell_type": "code",
   "execution_count": 52,
   "id": "d556c036-f064-4545-b728-436481f951b4",
   "metadata": {},
   "outputs": [
    {
     "name": "stdout",
     "output_type": "stream",
     "text": [
      "{'dolly', 'yash', 'ram', 'sam'}\n"
     ]
    }
   ],
   "source": [
    "engineers = {\"ria\",\"dolly\",\"ram\",\"sam\",\"yash\"}\n",
    "managers = {\"tina\",\"ria\"}\n",
    "print(engineers - managers)"
   ]
  },
  {
   "cell_type": "code",
   "execution_count": null,
   "id": "5048fa99-1071-4736-ba2a-8bfe289b1fe9",
   "metadata": {},
   "outputs": [],
   "source": [
    "#Question12"
   ]
  },
  {
   "cell_type": "code",
   "execution_count": 55,
   "id": "012880a7-9eb5-4e17-9881-614cff731680",
   "metadata": {},
   "outputs": [
    {
     "name": "stdout",
     "output_type": "stream",
     "text": [
      "True\n"
     ]
    }
   ],
   "source": [
    "s = {3,5,2,66,22,88,55}\n",
    "t = {5,22,3}\n",
    "print(t.issubset(s))"
   ]
  },
  {
   "cell_type": "code",
   "execution_count": null,
   "id": "372e2c23-0ef2-4434-9509-5449fef560c3",
   "metadata": {},
   "outputs": [],
   "source": [
    "#Question13"
   ]
  },
  {
   "cell_type": "code",
   "execution_count": 57,
   "id": "8af0bd4d-5fa2-44ea-955f-b2c5e3e00ddf",
   "metadata": {},
   "outputs": [
    {
     "name": "stdout",
     "output_type": "stream",
     "text": [
      "True\n"
     ]
    }
   ],
   "source": [
    "s = {3,5,2,66,22,88,55}\n",
    "t = {5,22,3}\n",
    "print(s.issuperset(t))"
   ]
  },
  {
   "cell_type": "code",
   "execution_count": null,
   "id": "5a10f2cc-24b6-43f7-ac97-4662002e9d52",
   "metadata": {},
   "outputs": [],
   "source": [
    "#Question14"
   ]
  },
  {
   "cell_type": "code",
   "execution_count": 23,
   "id": "8981cfd3-4535-487b-a3bd-66e732f9c6f4",
   "metadata": {},
   "outputs": [
    {
     "name": "stdout",
     "output_type": "stream",
     "text": [
      "{1, 2, 3}\n"
     ]
    }
   ],
   "source": [
    "lst = [1,2,3]\n",
    "s = set(lst)\n",
    "print(s)"
   ]
  },
  {
   "cell_type": "code",
   "execution_count": null,
   "id": "0fd7cd4f-f949-441d-8dc3-a7a9f0a1a843",
   "metadata": {},
   "outputs": [],
   "source": [
    "#Question15"
   ]
  },
  {
   "cell_type": "code",
   "execution_count": 59,
   "id": "8976d62a-8716-4430-880d-b527ba0682c7",
   "metadata": {},
   "outputs": [
    {
     "name": "stdout",
     "output_type": "stream",
     "text": [
      "[1, 2, 3]\n"
     ]
    }
   ],
   "source": [
    "s = {1,2,3}\n",
    "l1 = list(s)\n",
    "print(l1)"
   ]
  },
  {
   "cell_type": "code",
   "execution_count": 62,
   "id": "e5d6956e-86a8-4e44-bd8d-8e267ad6f129",
   "metadata": {},
   "outputs": [],
   "source": [
    "#Question16"
   ]
  },
  {
   "cell_type": "code",
   "execution_count": 24,
   "id": "fe05941e-0838-48c8-a331-25295927c837",
   "metadata": {},
   "outputs": [
    {
     "name": "stdout",
     "output_type": "stream",
     "text": [
      "Removed element : 1\n",
      "Set after removal: {2, 3, 5, 6}\n"
     ]
    }
   ],
   "source": [
    "import random\n",
    "s = {1,3,5,2,6}\n",
    "random_element = s.pop()\n",
    "print(\"Removed element :\",random_element)\n",
    "print(\"Set after removal:\",s)\n"
   ]
  },
  {
   "cell_type": "code",
   "execution_count": null,
   "id": "88acfea5-7dc8-4916-955b-35cbbc4bc18e",
   "metadata": {},
   "outputs": [],
   "source": [
    "#Question17"
   ]
  },
  {
   "cell_type": "code",
   "execution_count": 63,
   "id": "49b0346e-e2c1-4a0c-a97b-ccda34116f64",
   "metadata": {},
   "outputs": [
    {
     "data": {
      "text/plain": [
       "2"
      ]
     },
     "execution_count": 63,
     "metadata": {},
     "output_type": "execute_result"
    }
   ],
   "source": [
    "s1 = {3,4,5,2}\n",
    "s1.pop()"
   ]
  },
  {
   "cell_type": "code",
   "execution_count": null,
   "id": "3ef91d77-3a43-4606-b8a2-bc13d62ea57f",
   "metadata": {},
   "outputs": [],
   "source": [
    "#Question18"
   ]
  },
  {
   "cell_type": "code",
   "execution_count": 26,
   "id": "fff9117a-bb67-4900-8ada-11fc5173831c",
   "metadata": {},
   "outputs": [
    {
     "name": "stdout",
     "output_type": "stream",
     "text": [
      "The sets have no elements in common\n"
     ]
    }
   ],
   "source": [
    "set1 = {1,2,3}\n",
    "set2 = {4,5,6}\n",
    "if set1.isdisjoint(set2):\n",
    "    print(\"The sets have no elements in common\")\n",
    "else:\n",
    "    print(\"The sets have atleast one common element\")"
   ]
  },
  {
   "cell_type": "code",
   "execution_count": null,
   "id": "af512e34-018f-490c-8c13-cc54c2df6e74",
   "metadata": {},
   "outputs": [],
   "source": [
    "#Question19"
   ]
  },
  {
   "cell_type": "code",
   "execution_count": 27,
   "id": "bf115375-b13b-4797-b0d9-29fe268746b4",
   "metadata": {},
   "outputs": [
    {
     "name": "stdout",
     "output_type": "stream",
     "text": [
      "Symmetric difference : {1, 2, 4, 5}\n"
     ]
    }
   ],
   "source": [
    "set1 = {1,2,3}\n",
    "set2 = {3,4,5}\n",
    "\n",
    "symmetric_diff = set1 ^ set2\n",
    "print(\"Symmetric difference :\",symmetric_diff)"
   ]
  },
  {
   "cell_type": "code",
   "execution_count": null,
   "id": "17ab80ff-45ac-4503-b089-e1e363f5d922",
   "metadata": {},
   "outputs": [],
   "source": [
    "#Question20"
   ]
  },
  {
   "cell_type": "code",
   "execution_count": 28,
   "id": "291a1923-f617-420c-8b2b-5641b84d57a9",
   "metadata": {},
   "outputs": [
    {
     "name": "stdout",
     "output_type": "stream",
     "text": [
      "Updated set1: {1, 2, 3, 4, 5}\n"
     ]
    }
   ],
   "source": [
    "set1 = {1,2,3}\n",
    "set2 = {3,4,5}\n",
    "\n",
    "set1.update(set2)\n",
    "print(\"Updated set1:\",set1)"
   ]
  },
  {
   "cell_type": "code",
   "execution_count": null,
   "id": "a444875c-ab51-4c44-87fb-80997fa68fce",
   "metadata": {},
   "outputs": [],
   "source": [
    "#Question21"
   ]
  },
  {
   "cell_type": "code",
   "execution_count": 1,
   "id": "00e02600-ac20-4728-b865-60a7ebdc6359",
   "metadata": {},
   "outputs": [
    {
     "name": "stdout",
     "output_type": "stream",
     "text": [
      "{2, 3, 5, 7, 11}\n"
     ]
    }
   ],
   "source": [
    "def is_prime(num):\n",
    "    if num <= 1:\n",
    "        return false\n",
    "    for i in range(2,int(num**0.5)+1):\n",
    "        if num % i == 0:\n",
    "            return False\n",
    "    return True\n",
    "prime_numbers = [num for num in range(2,50) if is_prime(num)]\n",
    "\n",
    "first_5_primes = set(prime_numbers[:5])\n",
    "print(first_5_primes)"
   ]
  },
  {
   "cell_type": "code",
   "execution_count": null,
   "id": "c7ad9766-26f1-45a0-90b5-89306c0d492d",
   "metadata": {},
   "outputs": [],
   "source": [
    "#Question22"
   ]
  },
  {
   "cell_type": "code",
   "execution_count": 64,
   "id": "2dc73b86-b44f-4323-9094-eacd79d9d986",
   "metadata": {},
   "outputs": [
    {
     "data": {
      "text/plain": [
       "False"
      ]
     },
     "execution_count": 64,
     "metadata": {},
     "output_type": "execute_result"
    }
   ],
   "source": [
    "s1 = {1,2,3}\n",
    "s2 = {1,2,3}\n",
    "s1 is s2"
   ]
  },
  {
   "cell_type": "code",
   "execution_count": null,
   "id": "8086d1a3-b8d7-493a-b9c7-f8a5ead6d0ef",
   "metadata": {},
   "outputs": [],
   "source": [
    "#Question23"
   ]
  },
  {
   "cell_type": "code",
   "execution_count": 28,
   "id": "2177bcdf-3166-4dd8-a553-296193de5e43",
   "metadata": {},
   "outputs": [
    {
     "ename": "AttributeError",
     "evalue": "'frozenset' object has no attribute 'add'",
     "output_type": "error",
     "traceback": [
      "\u001b[0;31m---------------------------------------------------------------------------\u001b[0m",
      "\u001b[0;31mAttributeError\u001b[0m                            Traceback (most recent call last)",
      "Cell \u001b[0;32mIn[28], line 2\u001b[0m\n\u001b[1;32m      1\u001b[0m s \u001b[38;5;241m=\u001b[39m \u001b[38;5;28mfrozenset\u001b[39m({\u001b[38;5;124m\"\u001b[39m\u001b[38;5;124mwrite\u001b[39m\u001b[38;5;124m\"\u001b[39m,\u001b[38;5;124m\"\u001b[39m\u001b[38;5;124mwrote\u001b[39m\u001b[38;5;124m\"\u001b[39m,\u001b[38;5;124m\"\u001b[39m\u001b[38;5;124mwritten\u001b[39m\u001b[38;5;124m\"\u001b[39m})\n\u001b[0;32m----> 2\u001b[0m \u001b[43ms\u001b[49m\u001b[38;5;241;43m.\u001b[39;49m\u001b[43madd\u001b[49m(\u001b[38;5;124m\"\u001b[39m\u001b[38;5;124mread\u001b[39m\u001b[38;5;124m\"\u001b[39m)\n",
      "\u001b[0;31mAttributeError\u001b[0m: 'frozenset' object has no attribute 'add'"
     ]
    }
   ],
   "source": [
    "s = frozenset({\"write\",\"wrote\",\"written\"})\n",
    "s.add(\"read\")"
   ]
  },
  {
   "cell_type": "code",
   "execution_count": null,
   "id": "41d260bc-6b51-47ea-b369-f278a8a54f28",
   "metadata": {},
   "outputs": [],
   "source": [
    "#Question24"
   ]
  },
  {
   "cell_type": "code",
   "execution_count": 2,
   "id": "43c0c668-233d-4355-8d91-673006782d3f",
   "metadata": {},
   "outputs": [
    {
     "name": "stdout",
     "output_type": "stream",
     "text": [
      "True\n"
     ]
    }
   ],
   "source": [
    "set1 = {\"dsa\",\"java\",\"python\"}\n",
    "set2 = {\"hindi\",\"maths\",\"english\"}\n",
    "\n",
    "x = set1.isdisjoint(set2)\n",
    "print(x)"
   ]
  },
  {
   "cell_type": "code",
   "execution_count": null,
   "id": "a19dfdbf-3aed-495a-a584-dd70dd49ef19",
   "metadata": {},
   "outputs": [],
   "source": [
    "#Question25"
   ]
  },
  {
   "cell_type": "code",
   "execution_count": 7,
   "id": "a3508570-a967-4ae0-954e-ba77390618d7",
   "metadata": {},
   "outputs": [
    {
     "name": "stdout",
     "output_type": "stream",
     "text": [
      "{1, 4, 9, 16, 25}\n"
     ]
    }
   ],
   "source": [
    "squares = {x**2 for x in range(1,6)}\n",
    "print(squares)"
   ]
  },
  {
   "cell_type": "code",
   "execution_count": null,
   "id": "0be1f236-06d3-4533-8931-043cdc60fd18",
   "metadata": {},
   "outputs": [],
   "source": [
    "#Question26"
   ]
  },
  {
   "cell_type": "code",
   "execution_count": 12,
   "id": "19c0bae4-7832-466e-bec4-167c9c66bbd7",
   "metadata": {},
   "outputs": [
    {
     "name": "stdout",
     "output_type": "stream",
     "text": [
      "2\n",
      "34\n",
      "4\n",
      "78\n"
     ]
    }
   ],
   "source": [
    "my_set = {1,2,34,3,4,78}\n",
    "for i in my_set:\n",
    "    if i%2==0:\n",
    "        print(i)\n",
    "    else:\n",
    "        pass"
   ]
  },
  {
   "cell_type": "code",
   "execution_count": null,
   "id": "3bd189f2-c4e0-4d9f-b118-608f26b7e27a",
   "metadata": {},
   "outputs": [],
   "source": [
    "#Question27"
   ]
  },
  {
   "cell_type": "code",
   "execution_count": 18,
   "id": "e0b72298-5898-46c9-a1b7-1391a393a403",
   "metadata": {},
   "outputs": [
    {
     "name": "stdout",
     "output_type": "stream",
     "text": [
      "{8, 2, 6}\n"
     ]
    }
   ],
   "source": [
    "my_set = {1,4,3}\n",
    "x = {i*2 for i in my_set}\n",
    "print(x)"
   ]
  },
  {
   "cell_type": "code",
   "execution_count": null,
   "id": "8878237f-3947-4a13-ad96-5e99a73e3389",
   "metadata": {},
   "outputs": [],
   "source": [
    "#Question28"
   ]
  },
  {
   "cell_type": "code",
   "execution_count": 20,
   "id": "19680896-ebd1-45dc-96c5-c20bb179f1ee",
   "metadata": {},
   "outputs": [
    {
     "name": "stdout",
     "output_type": "stream",
     "text": [
      "{46, 16, 49, 25, 27}\n"
     ]
    }
   ],
   "source": [
    "import random\n",
    "\n",
    "random_numbers = set(random.randint(1,50) for i in range(5))\n",
    "print(random_numbers)"
   ]
  },
  {
   "cell_type": "code",
   "execution_count": null,
   "id": "c6e6cbf0-20c0-46c4-9de7-d01bc25e2cf1",
   "metadata": {},
   "outputs": [],
   "source": [
    "#Question29"
   ]
  },
  {
   "cell_type": "code",
   "execution_count": 25,
   "id": "846d0e25-4cde-480d-9958-fda69de08d09",
   "metadata": {},
   "outputs": [
    {
     "name": "stdout",
     "output_type": "stream",
     "text": [
      "The set is Empty\n"
     ]
    }
   ],
   "source": [
    "set1 = {}\n",
    "if len(set1) == 0:\n",
    "    print(\"The set is Empty\")\n",
    "else:\n",
    "    print(\"The set is not empty\")"
   ]
  },
  {
   "cell_type": "code",
   "execution_count": null,
   "id": "82be754d-eb70-46dc-85e9-6a9bb45d58ed",
   "metadata": {},
   "outputs": [],
   "source": [
    "#Question30"
   ]
  },
  {
   "cell_type": "code",
   "execution_count": 30,
   "id": "253ece42-14d1-4fff-8d3e-ba5f5476ff6c",
   "metadata": {},
   "outputs": [
    {
     "name": "stdout",
     "output_type": "stream",
     "text": [
      "{frozenset({'d', 'f', 'e'}), frozenset({'b', 'a', 'c'})}\n"
     ]
    }
   ],
   "source": [
    "nested_set = {frozenset({'a','b','c'}),frozenset({'d','e','f'})}\n",
    "print(nested_set)"
   ]
  },
  {
   "cell_type": "code",
   "execution_count": null,
   "id": "2f0e9391-7b80-4269-87a3-4539a75d1a61",
   "metadata": {},
   "outputs": [],
   "source": [
    "#Question31"
   ]
  },
  {
   "cell_type": "code",
   "execution_count": 32,
   "id": "b84aa737-62a2-4e82-8673-8277f9512478",
   "metadata": {},
   "outputs": [
    {
     "data": {
      "text/plain": [
       "{1, 2, 3, 5}"
      ]
     },
     "execution_count": 32,
     "metadata": {},
     "output_type": "execute_result"
    }
   ],
   "source": [
    "set1 = {1,2,3,4,5}\n",
    "set1.discard(4)\n",
    "set1"
   ]
  },
  {
   "cell_type": "code",
   "execution_count": null,
   "id": "57394f76-f409-44d8-81ef-54bccd990870",
   "metadata": {},
   "outputs": [],
   "source": [
    "#Question32"
   ]
  },
  {
   "cell_type": "code",
   "execution_count": 33,
   "id": "ca203ab6-4cef-4d18-944c-e844d80ab231",
   "metadata": {},
   "outputs": [
    {
     "name": "stdout",
     "output_type": "stream",
     "text": [
      "False\n",
      "False\n",
      "False\n"
     ]
    }
   ],
   "source": [
    "set1 = {1,2,3,4}\n",
    "set2 = {3,4,5,6}\n",
    "print(set1 == set2)\n",
    "print(set1 < set2)\n",
    "print(set1 > set2)"
   ]
  },
  {
   "cell_type": "code",
   "execution_count": null,
   "id": "7b450408-4637-4aeb-b0ff-9f55d40ab1bd",
   "metadata": {},
   "outputs": [],
   "source": [
    "#Question33"
   ]
  },
  {
   "cell_type": "code",
   "execution_count": 36,
   "id": "1925efe6-d266-4e43-8a74-3a06217efc3c",
   "metadata": {},
   "outputs": [
    {
     "name": "stdout",
     "output_type": "stream",
     "text": [
      "{'s', 'l', 'p', 'i', 'k', 'w'}\n"
     ]
    }
   ],
   "source": [
    "string = \"pwskills\"\n",
    "my_set = set(string)\n",
    "print(my_set)    "
   ]
  },
  {
   "cell_type": "code",
   "execution_count": null,
   "id": "070aef47-39cd-45f4-b6ac-70df18d23ea2",
   "metadata": {},
   "outputs": [],
   "source": [
    "#Question34"
   ]
  },
  {
   "cell_type": "code",
   "execution_count": 37,
   "id": "ed772674-3f82-4288-a1a8-7fc54a953329",
   "metadata": {},
   "outputs": [
    {
     "name": "stdout",
     "output_type": "stream",
     "text": [
      "{1, 2}\n"
     ]
    }
   ],
   "source": [
    "set1 = {'1','2'}\n",
    "set2 = {int(item) for item in set1}\n",
    "print(set2)"
   ]
  },
  {
   "cell_type": "code",
   "execution_count": null,
   "id": "4c311632-a7fe-43be-aac7-6ad31d07428e",
   "metadata": {},
   "outputs": [],
   "source": [
    "#Question35"
   ]
  },
  {
   "cell_type": "code",
   "execution_count": 38,
   "id": "ffe3dd58-85a4-4cb0-9b85-c193e9c281ce",
   "metadata": {},
   "outputs": [
    {
     "name": "stdout",
     "output_type": "stream",
     "text": [
      "{'2', '1'}\n"
     ]
    }
   ],
   "source": [
    "set1 = {1,2}\n",
    "set2 = {str(item) for item in set2}\n",
    "print(set2)"
   ]
  },
  {
   "cell_type": "code",
   "execution_count": null,
   "id": "27b5d2fd-e9ec-4341-929f-c34ea3d39d05",
   "metadata": {},
   "outputs": [],
   "source": [
    "#Question36"
   ]
  },
  {
   "cell_type": "code",
   "execution_count": 39,
   "id": "ee874e87-a16b-4d0e-ad24-570bfc9390c8",
   "metadata": {},
   "outputs": [
    {
     "name": "stdout",
     "output_type": "stream",
     "text": [
      "{1, 2, 3}\n"
     ]
    }
   ],
   "source": [
    "tuple1 = (1,2,3)\n",
    "set1 = set(tuple1)\n",
    "print(set1)"
   ]
  },
  {
   "cell_type": "code",
   "execution_count": null,
   "id": "a0a01012-cee5-477a-8920-96c99cbb4c81",
   "metadata": {},
   "outputs": [],
   "source": [
    "#Question37"
   ]
  },
  {
   "cell_type": "code",
   "execution_count": 40,
   "id": "3d35ac1f-c079-4e78-bdc0-ba58ec727a7c",
   "metadata": {},
   "outputs": [
    {
     "name": "stdout",
     "output_type": "stream",
     "text": [
      "(1, 2, 3)\n"
     ]
    }
   ],
   "source": [
    "set1 = {1,2,3}\n",
    "tuple1 = tuple(set1)\n",
    "print(tuple1)"
   ]
  },
  {
   "cell_type": "code",
   "execution_count": null,
   "id": "a01d6f53-3331-4300-aac9-12e3686173c4",
   "metadata": {},
   "outputs": [],
   "source": [
    "#Question38"
   ]
  },
  {
   "cell_type": "code",
   "execution_count": 41,
   "id": "f69ed478-ad69-4bed-ac76-bcd8dbb11d82",
   "metadata": {},
   "outputs": [
    {
     "name": "stdout",
     "output_type": "stream",
     "text": [
      "77\n"
     ]
    }
   ],
   "source": [
    "set1 = {33,1,4,77,6}\n",
    "maximum = max(set1)\n",
    "print(maximum)"
   ]
  },
  {
   "cell_type": "code",
   "execution_count": null,
   "id": "721de23f-f48c-44d1-86e2-4f3a8053b767",
   "metadata": {},
   "outputs": [],
   "source": [
    "#Question39"
   ]
  },
  {
   "cell_type": "code",
   "execution_count": 42,
   "id": "f8034bb8-8d8f-4922-aa9f-4c223378ef98",
   "metadata": {},
   "outputs": [
    {
     "name": "stdout",
     "output_type": "stream",
     "text": [
      "1\n"
     ]
    }
   ],
   "source": [
    "set1 = {33,1,4,77,6}\n",
    "maximum = min(set1)\n",
    "print(maximum)"
   ]
  },
  {
   "cell_type": "code",
   "execution_count": null,
   "id": "c8fb5829-6ef5-4dbc-9fc5-62d7f9e09cfd",
   "metadata": {},
   "outputs": [],
   "source": [
    "#Question40"
   ]
  },
  {
   "cell_type": "code",
   "execution_count": 43,
   "id": "c867ba18-04ef-4e35-bcbe-7a9761b36aba",
   "metadata": {},
   "outputs": [
    {
     "name": "stdin",
     "output_type": "stream",
     "text": [
      "Enter elements separated by spaces 2 3 5\n"
     ]
    },
    {
     "name": "stdout",
     "output_type": "stream",
     "text": [
      "{'3', '5', '2'}\n"
     ]
    }
   ],
   "source": [
    "user_input = input(\"Enter elements separated by spaces\")\n",
    "input_list = user_input.split()\n",
    "my_set = set(input_list)\n",
    "print(my_set)"
   ]
  },
  {
   "cell_type": "code",
   "execution_count": null,
   "id": "a6d59433-62a9-4662-8a90-66ac982b6e27",
   "metadata": {},
   "outputs": [],
   "source": [
    "#Question41"
   ]
  },
  {
   "cell_type": "code",
   "execution_count": 3,
   "id": "f8424163-9820-41f8-95c9-fe49224914d7",
   "metadata": {},
   "outputs": [
    {
     "name": "stdout",
     "output_type": "stream",
     "text": [
      "No intersection\n"
     ]
    }
   ],
   "source": [
    "set1 = {1,2,3,4,5}\n",
    "set2 = {6,7,8}\n",
    "if set(set1) & set(set2):\n",
    "    print(\"There is an intersection\")\n",
    "else:\n",
    "    print(\"No intersection\")"
   ]
  },
  {
   "cell_type": "code",
   "execution_count": null,
   "id": "3c11ab41-e6dd-46d0-b24f-3a8ba3030afb",
   "metadata": {},
   "outputs": [],
   "source": [
    "#Question42"
   ]
  },
  {
   "cell_type": "code",
   "execution_count": 11,
   "id": "9cbb6988-842d-465a-97af-b00d534f6da1",
   "metadata": {},
   "outputs": [
    {
     "name": "stdout",
     "output_type": "stream",
     "text": [
      "{0, 1, 2, 3, 5}\n"
     ]
    }
   ],
   "source": [
    "def gen_fibonacci(n):\n",
    "    if n <= 1:\n",
    "        return n\n",
    "    else:\n",
    "        return gen_fibonacci(n-1) + gen_fibonacci(n-2)\n",
    "    \n",
    "first_10_fibonacci = set([gen_fibonacci(i) for i in range(6)])\n",
    "print(first_10_fibonacci)"
   ]
  },
  {
   "cell_type": "code",
   "execution_count": null,
   "id": "0863a644-4dda-4571-867e-c21c1a1893f6",
   "metadata": {},
   "outputs": [],
   "source": [
    "#Question43"
   ]
  },
  {
   "cell_type": "code",
   "execution_count": 12,
   "id": "54e6e813-036d-4b69-8a74-2be9a0626636",
   "metadata": {},
   "outputs": [
    {
     "name": "stdout",
     "output_type": "stream",
     "text": [
      "[1, 2, 3, 4, 5, 6, 7]\n"
     ]
    }
   ],
   "source": [
    "my_list = [1,2,3,4,2,3,5,6,6,7]\n",
    "unique_list = list(set(my_list))\n",
    "print(unique_list)"
   ]
  },
  {
   "cell_type": "code",
   "execution_count": null,
   "id": "a2a917a4-14ec-4e7a-9735-17eff8fd1453",
   "metadata": {},
   "outputs": [],
   "source": [
    "#Question44"
   ]
  },
  {
   "cell_type": "code",
   "execution_count": 13,
   "id": "e3abb153-6664-46ac-8e69-e54ccb0f46e1",
   "metadata": {},
   "outputs": [
    {
     "name": "stdout",
     "output_type": "stream",
     "text": [
      "The sets have the same elements\n"
     ]
    }
   ],
   "source": [
    "set1 = {1,2,3,4,5}\n",
    "set2 = {5,4,3,2,1}\n",
    "if set1 == set2:\n",
    "    print(\"The sets have the same elements\")\n",
    "else:\n",
    "    print(\"The sets do not have the same elements\")"
   ]
  },
  {
   "cell_type": "code",
   "execution_count": null,
   "id": "26fedb6f-afd2-45c9-b1e8-cab7e05bf558",
   "metadata": {},
   "outputs": [],
   "source": [
    "#Question45"
   ]
  },
  {
   "cell_type": "code",
   "execution_count": 14,
   "id": "88deb5b4-207b-456e-a2ce-132829d06bce",
   "metadata": {},
   "outputs": [
    {
     "name": "stdout",
     "output_type": "stream",
     "text": [
      "{1, 2, 4, 8, 16}\n"
     ]
    }
   ],
   "source": [
    "n = 5\n",
    "powers_of_2 = set(pow(2,i)for i in range(n))\n",
    "\n",
    "print(powers_of_2)"
   ]
  },
  {
   "cell_type": "code",
   "execution_count": null,
   "id": "ee34fd97-5871-4c85-bd9b-52a117ceaee6",
   "metadata": {},
   "outputs": [],
   "source": [
    "#Question46"
   ]
  },
  {
   "cell_type": "code",
   "execution_count": 15,
   "id": "46cb5b55-2be2-4926-824e-d070a652a287",
   "metadata": {},
   "outputs": [
    {
     "name": "stdout",
     "output_type": "stream",
     "text": [
      "{4, 5}\n"
     ]
    }
   ],
   "source": [
    "my_set = {1,2,3,4,5}\n",
    "my_list = [4,5,6,7,8]\n",
    "common_elements = my_set.intersection(my_list)\n",
    "print(common_elements)"
   ]
  },
  {
   "cell_type": "code",
   "execution_count": null,
   "id": "f99ed121-caa7-497c-ba0e-1ab2335b72e9",
   "metadata": {},
   "outputs": [],
   "source": [
    "#Question47"
   ]
  },
  {
   "cell_type": "code",
   "execution_count": 16,
   "id": "7abafe61-56d9-41cd-981e-6eecab1a6bf1",
   "metadata": {},
   "outputs": [
    {
     "name": "stdout",
     "output_type": "stream",
     "text": [
      "{1, 3, 6, 10, 15}\n"
     ]
    }
   ],
   "source": [
    "n = 5\n",
    "triangular_numbers = set((i*(i + 1)) // 2 for i in range(1,n+1))\n",
    "\n",
    "print(triangular_numbers)"
   ]
  },
  {
   "cell_type": "code",
   "execution_count": null,
   "id": "b30a0c9e-4c6f-43a9-b541-53c4fd381b72",
   "metadata": {},
   "outputs": [],
   "source": [
    "#Question48"
   ]
  },
  {
   "cell_type": "code",
   "execution_count": 17,
   "id": "67b63f62-deb9-4c71-9b4a-f8d247c545b3",
   "metadata": {},
   "outputs": [
    {
     "name": "stdout",
     "output_type": "stream",
     "text": [
      "set2 is a subset of set1\n"
     ]
    }
   ],
   "source": [
    "set1 = {1,2,3,4,5}\n",
    "set2 = {2,3}\n",
    "if set2.issubset(set1):\n",
    "    print(\"set2 is a subset of set1\")\n",
    "else:\n",
    "    print(\"set2 is not a subset of set1 \")"
   ]
  },
  {
   "cell_type": "code",
   "execution_count": null,
   "id": "93a8e7f9-05aa-4d38-8f39-60ed2d6915f5",
   "metadata": {},
   "outputs": [],
   "source": [
    "#Question49"
   ]
  },
  {
   "cell_type": "code",
   "execution_count": 21,
   "id": "132fb2ad-4d58-409d-ba20-c89c1a9d4b3c",
   "metadata": {},
   "outputs": [
    {
     "name": "stdout",
     "output_type": "stream",
     "text": [
      "{0, 1}\n"
     ]
    }
   ],
   "source": [
    "n = 10\n",
    "alternating_set = set(1 if i%2==0 else 0 for i in range(n))\n",
    "print(alternating_set)"
   ]
  },
  {
   "cell_type": "code",
   "execution_count": null,
   "id": "41bd1724-659f-4167-9714-94a6ad1d78cf",
   "metadata": {},
   "outputs": [],
   "source": [
    "#Question50"
   ]
  },
  {
   "cell_type": "code",
   "execution_count": 22,
   "id": "0cc49702-466f-45ab-ad86-ce1442c0b147",
   "metadata": {},
   "outputs": [
    {
     "name": "stdout",
     "output_type": "stream",
     "text": [
      "{1, 2, 3, 4, 5, 6, 7}\n"
     ]
    }
   ],
   "source": [
    "set1 = {1,2,3}\n",
    "set2 = {3,4,5}\n",
    "set3 = {5,6,7}\n",
    "merged_set = set1.union(set2,set3)\n",
    "print(merged_set)"
   ]
  },
  {
   "cell_type": "code",
   "execution_count": null,
   "id": "d90f84df-7052-4a38-8b5e-ccaf9450c7ec",
   "metadata": {},
   "outputs": [],
   "source": []
  }
 ],
 "metadata": {
  "kernelspec": {
   "display_name": "Python 3 (ipykernel)",
   "language": "python",
   "name": "python3"
  },
  "language_info": {
   "codemirror_mode": {
    "name": "ipython",
    "version": 3
   },
   "file_extension": ".py",
   "mimetype": "text/x-python",
   "name": "python",
   "nbconvert_exporter": "python",
   "pygments_lexer": "ipython3",
   "version": "3.10.8"
  }
 },
 "nbformat": 4,
 "nbformat_minor": 5
}
